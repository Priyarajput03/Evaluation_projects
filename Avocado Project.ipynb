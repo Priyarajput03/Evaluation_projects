{
 "cells": [
  {
   "cell_type": "code",
   "execution_count": 1,
   "id": "983a1856",
   "metadata": {},
   "outputs": [],
   "source": [
    "import numpy as np\n",
    "import pandas as pd\n",
    "import matplotlib.pyplot as plt\n",
    "import seaborn as sns\n",
    "\n",
    "from scipy.stats import zscore\n",
    "from sklearn.preprocessing import StandardScaler, PowerTransformer\n",
    "from sklearn.decomposition import PCA\n",
    "from statsmodels.stats.outliers_influence import variance_inflation_factor\n",
    "from sklearn.model_selection import train_test_split,cross_val_score\n",
    "from sklearn.linear_model import LinearRegression\n",
    "from sklearn.metrics import mean_squared_error,mean_absolute_error,r2_score\n",
    "\n",
    "import warnings\n",
    "warnings.filterwarnings('ignore')"
   ]
  },
  {
   "cell_type": "code",
   "execution_count": 2,
   "id": "ab60df2b",
   "metadata": {},
   "outputs": [
    {
     "data": {
      "text/html": [
       "<div>\n",
       "<style scoped>\n",
       "    .dataframe tbody tr th:only-of-type {\n",
       "        vertical-align: middle;\n",
       "    }\n",
       "\n",
       "    .dataframe tbody tr th {\n",
       "        vertical-align: top;\n",
       "    }\n",
       "\n",
       "    .dataframe thead th {\n",
       "        text-align: right;\n",
       "    }\n",
       "</style>\n",
       "<table border=\"1\" class=\"dataframe\">\n",
       "  <thead>\n",
       "    <tr style=\"text-align: right;\">\n",
       "      <th></th>\n",
       "      <th>Unnamed: 0</th>\n",
       "      <th>Date</th>\n",
       "      <th>AveragePrice</th>\n",
       "      <th>Total Volume</th>\n",
       "      <th>4046</th>\n",
       "      <th>4225</th>\n",
       "      <th>4770</th>\n",
       "      <th>Total Bags</th>\n",
       "      <th>Small Bags</th>\n",
       "      <th>Large Bags</th>\n",
       "      <th>XLarge Bags</th>\n",
       "      <th>type</th>\n",
       "      <th>year</th>\n",
       "      <th>region</th>\n",
       "    </tr>\n",
       "  </thead>\n",
       "  <tbody>\n",
       "    <tr>\n",
       "      <th>0</th>\n",
       "      <td>0</td>\n",
       "      <td>2015-12-27</td>\n",
       "      <td>1.33</td>\n",
       "      <td>64236.62</td>\n",
       "      <td>1036.74</td>\n",
       "      <td>54454.85</td>\n",
       "      <td>48.16</td>\n",
       "      <td>8696.87</td>\n",
       "      <td>8603.62</td>\n",
       "      <td>93.25</td>\n",
       "      <td>0.0</td>\n",
       "      <td>conventional</td>\n",
       "      <td>2015</td>\n",
       "      <td>Albany</td>\n",
       "    </tr>\n",
       "    <tr>\n",
       "      <th>1</th>\n",
       "      <td>1</td>\n",
       "      <td>2015-12-20</td>\n",
       "      <td>1.35</td>\n",
       "      <td>54876.98</td>\n",
       "      <td>674.28</td>\n",
       "      <td>44638.81</td>\n",
       "      <td>58.33</td>\n",
       "      <td>9505.56</td>\n",
       "      <td>9408.07</td>\n",
       "      <td>97.49</td>\n",
       "      <td>0.0</td>\n",
       "      <td>conventional</td>\n",
       "      <td>2015</td>\n",
       "      <td>Albany</td>\n",
       "    </tr>\n",
       "    <tr>\n",
       "      <th>2</th>\n",
       "      <td>2</td>\n",
       "      <td>2015-12-13</td>\n",
       "      <td>0.93</td>\n",
       "      <td>118220.22</td>\n",
       "      <td>794.70</td>\n",
       "      <td>109149.67</td>\n",
       "      <td>130.50</td>\n",
       "      <td>8145.35</td>\n",
       "      <td>8042.21</td>\n",
       "      <td>103.14</td>\n",
       "      <td>0.0</td>\n",
       "      <td>conventional</td>\n",
       "      <td>2015</td>\n",
       "      <td>Albany</td>\n",
       "    </tr>\n",
       "    <tr>\n",
       "      <th>3</th>\n",
       "      <td>3</td>\n",
       "      <td>2015-12-06</td>\n",
       "      <td>1.08</td>\n",
       "      <td>78992.15</td>\n",
       "      <td>1132.00</td>\n",
       "      <td>71976.41</td>\n",
       "      <td>72.58</td>\n",
       "      <td>5811.16</td>\n",
       "      <td>5677.40</td>\n",
       "      <td>133.76</td>\n",
       "      <td>0.0</td>\n",
       "      <td>conventional</td>\n",
       "      <td>2015</td>\n",
       "      <td>Albany</td>\n",
       "    </tr>\n",
       "    <tr>\n",
       "      <th>4</th>\n",
       "      <td>4</td>\n",
       "      <td>2015-11-29</td>\n",
       "      <td>1.28</td>\n",
       "      <td>51039.60</td>\n",
       "      <td>941.48</td>\n",
       "      <td>43838.39</td>\n",
       "      <td>75.78</td>\n",
       "      <td>6183.95</td>\n",
       "      <td>5986.26</td>\n",
       "      <td>197.69</td>\n",
       "      <td>0.0</td>\n",
       "      <td>conventional</td>\n",
       "      <td>2015</td>\n",
       "      <td>Albany</td>\n",
       "    </tr>\n",
       "  </tbody>\n",
       "</table>\n",
       "</div>"
      ],
      "text/plain": [
       "   Unnamed: 0        Date  AveragePrice  Total Volume     4046       4225  \\\n",
       "0           0  2015-12-27          1.33      64236.62  1036.74   54454.85   \n",
       "1           1  2015-12-20          1.35      54876.98   674.28   44638.81   \n",
       "2           2  2015-12-13          0.93     118220.22   794.70  109149.67   \n",
       "3           3  2015-12-06          1.08      78992.15  1132.00   71976.41   \n",
       "4           4  2015-11-29          1.28      51039.60   941.48   43838.39   \n",
       "\n",
       "     4770  Total Bags  Small Bags  Large Bags  XLarge Bags          type  \\\n",
       "0   48.16     8696.87     8603.62       93.25          0.0  conventional   \n",
       "1   58.33     9505.56     9408.07       97.49          0.0  conventional   \n",
       "2  130.50     8145.35     8042.21      103.14          0.0  conventional   \n",
       "3   72.58     5811.16     5677.40      133.76          0.0  conventional   \n",
       "4   75.78     6183.95     5986.26      197.69          0.0  conventional   \n",
       "\n",
       "   year  region  \n",
       "0  2015  Albany  \n",
       "1  2015  Albany  \n",
       "2  2015  Albany  \n",
       "3  2015  Albany  \n",
       "4  2015  Albany  "
      ]
     },
     "execution_count": 2,
     "metadata": {},
     "output_type": "execute_result"
    }
   ],
   "source": [
    "df=pd.read_csv(r'C:\\Users\\Admin\\Desktop\\avocado.csv')\n",
    "df.head()"
   ]
  },
  {
   "cell_type": "code",
   "execution_count": 3,
   "id": "008a25f9",
   "metadata": {},
   "outputs": [
    {
     "data": {
      "text/plain": [
       "(18249, 14)"
      ]
     },
     "execution_count": 3,
     "metadata": {},
     "output_type": "execute_result"
    }
   ],
   "source": [
    "df.shape # Dimensions"
   ]
  },
  {
   "cell_type": "code",
   "execution_count": 4,
   "id": "d4e58c15",
   "metadata": {},
   "outputs": [
    {
     "name": "stdout",
     "output_type": "stream",
     "text": [
      "<class 'pandas.core.frame.DataFrame'>\n",
      "RangeIndex: 18249 entries, 0 to 18248\n",
      "Data columns (total 14 columns):\n",
      " #   Column        Non-Null Count  Dtype  \n",
      "---  ------        --------------  -----  \n",
      " 0   Unnamed: 0    18249 non-null  int64  \n",
      " 1   Date          18249 non-null  object \n",
      " 2   AveragePrice  18249 non-null  float64\n",
      " 3   Total Volume  18249 non-null  float64\n",
      " 4   4046          18249 non-null  float64\n",
      " 5   4225          18249 non-null  float64\n",
      " 6   4770          18249 non-null  float64\n",
      " 7   Total Bags    18249 non-null  float64\n",
      " 8   Small Bags    18249 non-null  float64\n",
      " 9   Large Bags    18249 non-null  float64\n",
      " 10  XLarge Bags   18249 non-null  float64\n",
      " 11  type          18249 non-null  object \n",
      " 12  year          18249 non-null  int64  \n",
      " 13  region        18249 non-null  object \n",
      "dtypes: float64(9), int64(2), object(3)\n",
      "memory usage: 1.9+ MB\n"
     ]
    }
   ],
   "source": [
    "df.info() # detailed information of the dataset in term of null stypes, columns"
   ]
  },
  {
   "cell_type": "code",
   "execution_count": 5,
   "id": "7ee890f1",
   "metadata": {},
   "outputs": [
    {
     "data": {
      "text/plain": [
       "Unnamed: 0        int64\n",
       "Date             object\n",
       "AveragePrice    float64\n",
       "Total Volume    float64\n",
       "4046            float64\n",
       "4225            float64\n",
       "4770            float64\n",
       "Total Bags      float64\n",
       "Small Bags      float64\n",
       "Large Bags      float64\n",
       "XLarge Bags     float64\n",
       "type             object\n",
       "year              int64\n",
       "region           object\n",
       "dtype: object"
      ]
     },
     "execution_count": 5,
     "metadata": {},
     "output_type": "execute_result"
    }
   ],
   "source": [
    "df.dtypes"
   ]
  },
  {
   "cell_type": "code",
   "execution_count": 6,
   "id": "882e3ab0",
   "metadata": {},
   "outputs": [
    {
     "data": {
      "text/plain": [
       "Unnamed: 0      0\n",
       "Date            0\n",
       "AveragePrice    0\n",
       "Total Volume    0\n",
       "4046            0\n",
       "4225            0\n",
       "4770            0\n",
       "Total Bags      0\n",
       "Small Bags      0\n",
       "Large Bags      0\n",
       "XLarge Bags     0\n",
       "type            0\n",
       "year            0\n",
       "region          0\n",
       "dtype: int64"
      ]
     },
     "execution_count": 6,
     "metadata": {},
     "output_type": "execute_result"
    }
   ],
   "source": [
    "df.isna().sum() # finding the null values of the dataset"
   ]
  },
  {
   "cell_type": "code",
   "execution_count": 7,
   "id": "d855b406",
   "metadata": {},
   "outputs": [],
   "source": [
    "df.drop(['Unnamed: 0'],axis=1,inplace=True) # removing the irrelvent data column which contain no information"
   ]
  },
  {
   "cell_type": "code",
   "execution_count": 8,
   "id": "4abcd137",
   "metadata": {},
   "outputs": [
    {
     "data": {
      "text/plain": [
       "(18249, 13)"
      ]
     },
     "execution_count": 8,
     "metadata": {},
     "output_type": "execute_result"
    }
   ],
   "source": [
    "df.shape"
   ]
  },
  {
   "cell_type": "code",
   "execution_count": 9,
   "id": "59079cb7",
   "metadata": {},
   "outputs": [
    {
     "data": {
      "text/html": [
       "<div>\n",
       "<style scoped>\n",
       "    .dataframe tbody tr th:only-of-type {\n",
       "        vertical-align: middle;\n",
       "    }\n",
       "\n",
       "    .dataframe tbody tr th {\n",
       "        vertical-align: top;\n",
       "    }\n",
       "\n",
       "    .dataframe thead th {\n",
       "        text-align: right;\n",
       "    }\n",
       "</style>\n",
       "<table border=\"1\" class=\"dataframe\">\n",
       "  <thead>\n",
       "    <tr style=\"text-align: right;\">\n",
       "      <th></th>\n",
       "      <th>AveragePrice</th>\n",
       "      <th>Total Volume</th>\n",
       "      <th>4046</th>\n",
       "      <th>4225</th>\n",
       "      <th>4770</th>\n",
       "      <th>Total Bags</th>\n",
       "      <th>Small Bags</th>\n",
       "      <th>Large Bags</th>\n",
       "      <th>XLarge Bags</th>\n",
       "      <th>year</th>\n",
       "    </tr>\n",
       "  </thead>\n",
       "  <tbody>\n",
       "    <tr>\n",
       "      <th>count</th>\n",
       "      <td>18249.000000</td>\n",
       "      <td>1.824900e+04</td>\n",
       "      <td>1.824900e+04</td>\n",
       "      <td>1.824900e+04</td>\n",
       "      <td>1.824900e+04</td>\n",
       "      <td>1.824900e+04</td>\n",
       "      <td>1.824900e+04</td>\n",
       "      <td>1.824900e+04</td>\n",
       "      <td>18249.000000</td>\n",
       "      <td>18249.000000</td>\n",
       "    </tr>\n",
       "    <tr>\n",
       "      <th>mean</th>\n",
       "      <td>1.405978</td>\n",
       "      <td>8.506440e+05</td>\n",
       "      <td>2.930084e+05</td>\n",
       "      <td>2.951546e+05</td>\n",
       "      <td>2.283974e+04</td>\n",
       "      <td>2.396392e+05</td>\n",
       "      <td>1.821947e+05</td>\n",
       "      <td>5.433809e+04</td>\n",
       "      <td>3106.426507</td>\n",
       "      <td>2016.147899</td>\n",
       "    </tr>\n",
       "    <tr>\n",
       "      <th>std</th>\n",
       "      <td>0.402677</td>\n",
       "      <td>3.453545e+06</td>\n",
       "      <td>1.264989e+06</td>\n",
       "      <td>1.204120e+06</td>\n",
       "      <td>1.074641e+05</td>\n",
       "      <td>9.862424e+05</td>\n",
       "      <td>7.461785e+05</td>\n",
       "      <td>2.439660e+05</td>\n",
       "      <td>17692.894652</td>\n",
       "      <td>0.939938</td>\n",
       "    </tr>\n",
       "    <tr>\n",
       "      <th>min</th>\n",
       "      <td>0.440000</td>\n",
       "      <td>8.456000e+01</td>\n",
       "      <td>0.000000e+00</td>\n",
       "      <td>0.000000e+00</td>\n",
       "      <td>0.000000e+00</td>\n",
       "      <td>0.000000e+00</td>\n",
       "      <td>0.000000e+00</td>\n",
       "      <td>0.000000e+00</td>\n",
       "      <td>0.000000</td>\n",
       "      <td>2015.000000</td>\n",
       "    </tr>\n",
       "    <tr>\n",
       "      <th>25%</th>\n",
       "      <td>1.100000</td>\n",
       "      <td>1.083858e+04</td>\n",
       "      <td>8.540700e+02</td>\n",
       "      <td>3.008780e+03</td>\n",
       "      <td>0.000000e+00</td>\n",
       "      <td>5.088640e+03</td>\n",
       "      <td>2.849420e+03</td>\n",
       "      <td>1.274700e+02</td>\n",
       "      <td>0.000000</td>\n",
       "      <td>2015.000000</td>\n",
       "    </tr>\n",
       "    <tr>\n",
       "      <th>50%</th>\n",
       "      <td>1.370000</td>\n",
       "      <td>1.073768e+05</td>\n",
       "      <td>8.645300e+03</td>\n",
       "      <td>2.906102e+04</td>\n",
       "      <td>1.849900e+02</td>\n",
       "      <td>3.974383e+04</td>\n",
       "      <td>2.636282e+04</td>\n",
       "      <td>2.647710e+03</td>\n",
       "      <td>0.000000</td>\n",
       "      <td>2016.000000</td>\n",
       "    </tr>\n",
       "    <tr>\n",
       "      <th>75%</th>\n",
       "      <td>1.660000</td>\n",
       "      <td>4.329623e+05</td>\n",
       "      <td>1.110202e+05</td>\n",
       "      <td>1.502069e+05</td>\n",
       "      <td>6.243420e+03</td>\n",
       "      <td>1.107834e+05</td>\n",
       "      <td>8.333767e+04</td>\n",
       "      <td>2.202925e+04</td>\n",
       "      <td>132.500000</td>\n",
       "      <td>2017.000000</td>\n",
       "    </tr>\n",
       "    <tr>\n",
       "      <th>max</th>\n",
       "      <td>3.250000</td>\n",
       "      <td>6.250565e+07</td>\n",
       "      <td>2.274362e+07</td>\n",
       "      <td>2.047057e+07</td>\n",
       "      <td>2.546439e+06</td>\n",
       "      <td>1.937313e+07</td>\n",
       "      <td>1.338459e+07</td>\n",
       "      <td>5.719097e+06</td>\n",
       "      <td>551693.650000</td>\n",
       "      <td>2018.000000</td>\n",
       "    </tr>\n",
       "  </tbody>\n",
       "</table>\n",
       "</div>"
      ],
      "text/plain": [
       "       AveragePrice  Total Volume          4046          4225          4770  \\\n",
       "count  18249.000000  1.824900e+04  1.824900e+04  1.824900e+04  1.824900e+04   \n",
       "mean       1.405978  8.506440e+05  2.930084e+05  2.951546e+05  2.283974e+04   \n",
       "std        0.402677  3.453545e+06  1.264989e+06  1.204120e+06  1.074641e+05   \n",
       "min        0.440000  8.456000e+01  0.000000e+00  0.000000e+00  0.000000e+00   \n",
       "25%        1.100000  1.083858e+04  8.540700e+02  3.008780e+03  0.000000e+00   \n",
       "50%        1.370000  1.073768e+05  8.645300e+03  2.906102e+04  1.849900e+02   \n",
       "75%        1.660000  4.329623e+05  1.110202e+05  1.502069e+05  6.243420e+03   \n",
       "max        3.250000  6.250565e+07  2.274362e+07  2.047057e+07  2.546439e+06   \n",
       "\n",
       "         Total Bags    Small Bags    Large Bags    XLarge Bags          year  \n",
       "count  1.824900e+04  1.824900e+04  1.824900e+04   18249.000000  18249.000000  \n",
       "mean   2.396392e+05  1.821947e+05  5.433809e+04    3106.426507   2016.147899  \n",
       "std    9.862424e+05  7.461785e+05  2.439660e+05   17692.894652      0.939938  \n",
       "min    0.000000e+00  0.000000e+00  0.000000e+00       0.000000   2015.000000  \n",
       "25%    5.088640e+03  2.849420e+03  1.274700e+02       0.000000   2015.000000  \n",
       "50%    3.974383e+04  2.636282e+04  2.647710e+03       0.000000   2016.000000  \n",
       "75%    1.107834e+05  8.333767e+04  2.202925e+04     132.500000   2017.000000  \n",
       "max    1.937313e+07  1.338459e+07  5.719097e+06  551693.650000   2018.000000  "
      ]
     },
     "execution_count": 9,
     "metadata": {},
     "output_type": "execute_result"
    }
   ],
   "source": [
    "df.describe() #statistical description"
   ]
  },
  {
   "cell_type": "code",
   "execution_count": 10,
   "id": "d9c16399",
   "metadata": {},
   "outputs": [
    {
     "data": {
      "text/plain": [
       "Index(['Date', 'AveragePrice', 'Total Volume', '4046', '4225', '4770',\n",
       "       'Total Bags', 'Small Bags', 'Large Bags', 'XLarge Bags', 'type', 'year',\n",
       "       'region'],\n",
       "      dtype='object')"
      ]
     },
     "execution_count": 10,
     "metadata": {},
     "output_type": "execute_result"
    }
   ],
   "source": [
    "df.columns # total columns in the dataset"
   ]
  },
  {
   "cell_type": "code",
   "execution_count": 11,
   "id": "b1a487aa",
   "metadata": {},
   "outputs": [
    {
     "data": {
      "text/plain": [
       "Date              169\n",
       "AveragePrice      259\n",
       "Total Volume    18237\n",
       "4046            17702\n",
       "4225            18103\n",
       "4770            12071\n",
       "Total Bags      18097\n",
       "Small Bags      17321\n",
       "Large Bags      15082\n",
       "XLarge Bags      5588\n",
       "type                2\n",
       "year                4\n",
       "region             54\n",
       "dtype: int64"
      ]
     },
     "execution_count": 11,
     "metadata": {},
     "output_type": "execute_result"
    }
   ],
   "source": [
    "df.nunique() # finding the unique values"
   ]
  },
  {
   "cell_type": "code",
   "execution_count": 12,
   "id": "18abb298",
   "metadata": {},
   "outputs": [
    {
     "data": {
      "text/plain": [
       "AveragePrice     0.580303\n",
       "Total Volume     9.007687\n",
       "4046             8.648220\n",
       "4225             8.942466\n",
       "4770            10.159396\n",
       "Total Bags       9.756072\n",
       "Small Bags       9.540660\n",
       "Large Bags       9.796455\n",
       "XLarge Bags     13.139751\n",
       "year             0.215339\n",
       "dtype: float64"
      ]
     },
     "execution_count": 12,
     "metadata": {},
     "output_type": "execute_result"
    }
   ],
   "source": [
    "df.skew()"
   ]
  },
  {
   "cell_type": "code",
   "execution_count": 13,
   "id": "1d382812",
   "metadata": {},
   "outputs": [
    {
     "data": {
      "text/html": [
       "<div>\n",
       "<style scoped>\n",
       "    .dataframe tbody tr th:only-of-type {\n",
       "        vertical-align: middle;\n",
       "    }\n",
       "\n",
       "    .dataframe tbody tr th {\n",
       "        vertical-align: top;\n",
       "    }\n",
       "\n",
       "    .dataframe thead th {\n",
       "        text-align: right;\n",
       "    }\n",
       "</style>\n",
       "<table border=\"1\" class=\"dataframe\">\n",
       "  <thead>\n",
       "    <tr style=\"text-align: right;\">\n",
       "      <th></th>\n",
       "      <th>AveragePrice</th>\n",
       "      <th>Total Volume</th>\n",
       "      <th>4046</th>\n",
       "      <th>4225</th>\n",
       "      <th>4770</th>\n",
       "      <th>Total Bags</th>\n",
       "      <th>Small Bags</th>\n",
       "      <th>Large Bags</th>\n",
       "      <th>XLarge Bags</th>\n",
       "      <th>type</th>\n",
       "      <th>region</th>\n",
       "      <th>Year</th>\n",
       "      <th>Month</th>\n",
       "      <th>Dates</th>\n",
       "    </tr>\n",
       "  </thead>\n",
       "  <tbody>\n",
       "    <tr>\n",
       "      <th>0</th>\n",
       "      <td>1.33</td>\n",
       "      <td>64236.62</td>\n",
       "      <td>1036.74</td>\n",
       "      <td>54454.85</td>\n",
       "      <td>48.16</td>\n",
       "      <td>8696.87</td>\n",
       "      <td>8603.62</td>\n",
       "      <td>93.25</td>\n",
       "      <td>0.0</td>\n",
       "      <td>conventional</td>\n",
       "      <td>Albany</td>\n",
       "      <td>2015</td>\n",
       "      <td>12</td>\n",
       "      <td>27</td>\n",
       "    </tr>\n",
       "    <tr>\n",
       "      <th>1</th>\n",
       "      <td>1.35</td>\n",
       "      <td>54876.98</td>\n",
       "      <td>674.28</td>\n",
       "      <td>44638.81</td>\n",
       "      <td>58.33</td>\n",
       "      <td>9505.56</td>\n",
       "      <td>9408.07</td>\n",
       "      <td>97.49</td>\n",
       "      <td>0.0</td>\n",
       "      <td>conventional</td>\n",
       "      <td>Albany</td>\n",
       "      <td>2015</td>\n",
       "      <td>12</td>\n",
       "      <td>20</td>\n",
       "    </tr>\n",
       "    <tr>\n",
       "      <th>2</th>\n",
       "      <td>0.93</td>\n",
       "      <td>118220.22</td>\n",
       "      <td>794.70</td>\n",
       "      <td>109149.67</td>\n",
       "      <td>130.50</td>\n",
       "      <td>8145.35</td>\n",
       "      <td>8042.21</td>\n",
       "      <td>103.14</td>\n",
       "      <td>0.0</td>\n",
       "      <td>conventional</td>\n",
       "      <td>Albany</td>\n",
       "      <td>2015</td>\n",
       "      <td>12</td>\n",
       "      <td>13</td>\n",
       "    </tr>\n",
       "    <tr>\n",
       "      <th>3</th>\n",
       "      <td>1.08</td>\n",
       "      <td>78992.15</td>\n",
       "      <td>1132.00</td>\n",
       "      <td>71976.41</td>\n",
       "      <td>72.58</td>\n",
       "      <td>5811.16</td>\n",
       "      <td>5677.40</td>\n",
       "      <td>133.76</td>\n",
       "      <td>0.0</td>\n",
       "      <td>conventional</td>\n",
       "      <td>Albany</td>\n",
       "      <td>2015</td>\n",
       "      <td>12</td>\n",
       "      <td>06</td>\n",
       "    </tr>\n",
       "    <tr>\n",
       "      <th>4</th>\n",
       "      <td>1.28</td>\n",
       "      <td>51039.60</td>\n",
       "      <td>941.48</td>\n",
       "      <td>43838.39</td>\n",
       "      <td>75.78</td>\n",
       "      <td>6183.95</td>\n",
       "      <td>5986.26</td>\n",
       "      <td>197.69</td>\n",
       "      <td>0.0</td>\n",
       "      <td>conventional</td>\n",
       "      <td>Albany</td>\n",
       "      <td>2015</td>\n",
       "      <td>11</td>\n",
       "      <td>29</td>\n",
       "    </tr>\n",
       "    <tr>\n",
       "      <th>...</th>\n",
       "      <td>...</td>\n",
       "      <td>...</td>\n",
       "      <td>...</td>\n",
       "      <td>...</td>\n",
       "      <td>...</td>\n",
       "      <td>...</td>\n",
       "      <td>...</td>\n",
       "      <td>...</td>\n",
       "      <td>...</td>\n",
       "      <td>...</td>\n",
       "      <td>...</td>\n",
       "      <td>...</td>\n",
       "      <td>...</td>\n",
       "      <td>...</td>\n",
       "    </tr>\n",
       "    <tr>\n",
       "      <th>18244</th>\n",
       "      <td>1.63</td>\n",
       "      <td>17074.83</td>\n",
       "      <td>2046.96</td>\n",
       "      <td>1529.20</td>\n",
       "      <td>0.00</td>\n",
       "      <td>13498.67</td>\n",
       "      <td>13066.82</td>\n",
       "      <td>431.85</td>\n",
       "      <td>0.0</td>\n",
       "      <td>organic</td>\n",
       "      <td>WestTexNewMexico</td>\n",
       "      <td>2018</td>\n",
       "      <td>02</td>\n",
       "      <td>04</td>\n",
       "    </tr>\n",
       "    <tr>\n",
       "      <th>18245</th>\n",
       "      <td>1.71</td>\n",
       "      <td>13888.04</td>\n",
       "      <td>1191.70</td>\n",
       "      <td>3431.50</td>\n",
       "      <td>0.00</td>\n",
       "      <td>9264.84</td>\n",
       "      <td>8940.04</td>\n",
       "      <td>324.80</td>\n",
       "      <td>0.0</td>\n",
       "      <td>organic</td>\n",
       "      <td>WestTexNewMexico</td>\n",
       "      <td>2018</td>\n",
       "      <td>01</td>\n",
       "      <td>28</td>\n",
       "    </tr>\n",
       "    <tr>\n",
       "      <th>18246</th>\n",
       "      <td>1.87</td>\n",
       "      <td>13766.76</td>\n",
       "      <td>1191.92</td>\n",
       "      <td>2452.79</td>\n",
       "      <td>727.94</td>\n",
       "      <td>9394.11</td>\n",
       "      <td>9351.80</td>\n",
       "      <td>42.31</td>\n",
       "      <td>0.0</td>\n",
       "      <td>organic</td>\n",
       "      <td>WestTexNewMexico</td>\n",
       "      <td>2018</td>\n",
       "      <td>01</td>\n",
       "      <td>21</td>\n",
       "    </tr>\n",
       "    <tr>\n",
       "      <th>18247</th>\n",
       "      <td>1.93</td>\n",
       "      <td>16205.22</td>\n",
       "      <td>1527.63</td>\n",
       "      <td>2981.04</td>\n",
       "      <td>727.01</td>\n",
       "      <td>10969.54</td>\n",
       "      <td>10919.54</td>\n",
       "      <td>50.00</td>\n",
       "      <td>0.0</td>\n",
       "      <td>organic</td>\n",
       "      <td>WestTexNewMexico</td>\n",
       "      <td>2018</td>\n",
       "      <td>01</td>\n",
       "      <td>14</td>\n",
       "    </tr>\n",
       "    <tr>\n",
       "      <th>18248</th>\n",
       "      <td>1.62</td>\n",
       "      <td>17489.58</td>\n",
       "      <td>2894.77</td>\n",
       "      <td>2356.13</td>\n",
       "      <td>224.53</td>\n",
       "      <td>12014.15</td>\n",
       "      <td>11988.14</td>\n",
       "      <td>26.01</td>\n",
       "      <td>0.0</td>\n",
       "      <td>organic</td>\n",
       "      <td>WestTexNewMexico</td>\n",
       "      <td>2018</td>\n",
       "      <td>01</td>\n",
       "      <td>07</td>\n",
       "    </tr>\n",
       "  </tbody>\n",
       "</table>\n",
       "<p>18249 rows × 14 columns</p>\n",
       "</div>"
      ],
      "text/plain": [
       "       AveragePrice  Total Volume     4046       4225    4770  Total Bags  \\\n",
       "0              1.33      64236.62  1036.74   54454.85   48.16     8696.87   \n",
       "1              1.35      54876.98   674.28   44638.81   58.33     9505.56   \n",
       "2              0.93     118220.22   794.70  109149.67  130.50     8145.35   \n",
       "3              1.08      78992.15  1132.00   71976.41   72.58     5811.16   \n",
       "4              1.28      51039.60   941.48   43838.39   75.78     6183.95   \n",
       "...             ...           ...      ...        ...     ...         ...   \n",
       "18244          1.63      17074.83  2046.96    1529.20    0.00    13498.67   \n",
       "18245          1.71      13888.04  1191.70    3431.50    0.00     9264.84   \n",
       "18246          1.87      13766.76  1191.92    2452.79  727.94     9394.11   \n",
       "18247          1.93      16205.22  1527.63    2981.04  727.01    10969.54   \n",
       "18248          1.62      17489.58  2894.77    2356.13  224.53    12014.15   \n",
       "\n",
       "       Small Bags  Large Bags  XLarge Bags          type            region  \\\n",
       "0         8603.62       93.25          0.0  conventional            Albany   \n",
       "1         9408.07       97.49          0.0  conventional            Albany   \n",
       "2         8042.21      103.14          0.0  conventional            Albany   \n",
       "3         5677.40      133.76          0.0  conventional            Albany   \n",
       "4         5986.26      197.69          0.0  conventional            Albany   \n",
       "...           ...         ...          ...           ...               ...   \n",
       "18244    13066.82      431.85          0.0       organic  WestTexNewMexico   \n",
       "18245     8940.04      324.80          0.0       organic  WestTexNewMexico   \n",
       "18246     9351.80       42.31          0.0       organic  WestTexNewMexico   \n",
       "18247    10919.54       50.00          0.0       organic  WestTexNewMexico   \n",
       "18248    11988.14       26.01          0.0       organic  WestTexNewMexico   \n",
       "\n",
       "       Year Month Dates  \n",
       "0      2015    12    27  \n",
       "1      2015    12    20  \n",
       "2      2015    12    13  \n",
       "3      2015    12    06  \n",
       "4      2015    11    29  \n",
       "...     ...   ...   ...  \n",
       "18244  2018    02    04  \n",
       "18245  2018    01    28  \n",
       "18246  2018    01    21  \n",
       "18247  2018    01    14  \n",
       "18248  2018    01    07  \n",
       "\n",
       "[18249 rows x 14 columns]"
      ]
     },
     "execution_count": 13,
     "metadata": {},
     "output_type": "execute_result"
    }
   ],
   "source": [
    "# splitting the date column into dae ,monnth and Year\n",
    "df['Year'],df['Month'],df['Dates']=df['Date'].str.split('-').str\n",
    "df.drop(columns=['Date', 'year'],inplace=True)\n",
    "df"
   ]
  },
  {
   "cell_type": "markdown",
   "id": "6b8387aa",
   "metadata": {},
   "source": [
    "## Visualizating the data using different graphs"
   ]
  },
  {
   "cell_type": "code",
   "execution_count": 14,
   "id": "c1df7632",
   "metadata": {},
   "outputs": [
    {
     "name": "stdout",
     "output_type": "stream",
     "text": [
      "conventional    9126\n",
      "organic         9123\n",
      "Name: type, dtype: int64\n"
     ]
    }
   ],
   "source": [
    "# counting number of conventional and organic avocado's\n",
    "print(df['type'].value_counts())"
   ]
  },
  {
   "cell_type": "code",
   "execution_count": 15,
   "id": "708c431c",
   "metadata": {},
   "outputs": [
    {
     "data": {
      "image/png": "[encoded data removed]",
      "text/plain": [
       "<Figure size 432x288 with 1 Axes>"
      ]
     },
     "metadata": {
      "needs_background": "light"
     },
     "output_type": "display_data"
    }
   ],
   "source": [
    "# count plot fo type column\n",
    "sns.countplot(x='type', data=df)\n",
    "plt.show()"
   ]
  },
  {
   "cell_type": "code",
   "execution_count": 16,
   "id": "32241b7d",
   "metadata": {},
   "outputs": [
    {
     "name": "stdout",
     "output_type": "stream",
     "text": [
      "2017    5722\n",
      "2016    5616\n",
      "2015    5615\n",
      "2018    1296\n",
      "Name: Year, dtype: int64\n"
     ]
    },
    {
     "data": {
      "image/png": "[encoded data removed]",
      "text/plain": [
       "<Figure size 432x288 with 1 Axes>"
      ]
     },
     "metadata": {
      "needs_background": "light"
     },
     "output_type": "display_data"
    }
   ],
   "source": [
    "print(df['Year'].value_counts())\n",
    "sns.countplot(x='Year',data=df)\n",
    "plt.show()"
   ]
  },
  {
   "cell_type": "code",
   "execution_count": 17,
   "id": "d92e4b59",
   "metadata": {},
   "outputs": [
    {
     "name": "stdout",
     "output_type": "stream",
     "text": [
      "01    1944\n",
      "03    1836\n",
      "02    1728\n",
      "10    1512\n",
      "05    1512\n",
      "07    1512\n",
      "08    1404\n",
      "11    1404\n",
      "04    1404\n",
      "12    1403\n",
      "09    1296\n",
      "06    1294\n",
      "Name: Month, dtype: int64\n"
     ]
    },
    {
     "data": {
      "image/png": "[encoded data removed]",
      "text/plain": [
       "<Figure size 432x288 with 1 Axes>"
      ]
     },
     "metadata": {
      "needs_background": "light"
     },
     "output_type": "display_data"
    }
   ],
   "source": [
    "print(df['Month'].value_counts())\n",
    "sns.countplot(x='Month',data=df)\n",
    "plt.show()"
   ]
  },
  {
   "cell_type": "code",
   "execution_count": 18,
   "id": "8a149bc4",
   "metadata": {},
   "outputs": [
    {
     "name": "stdout",
     "output_type": "stream",
     "text": [
      "11    756\n",
      "04    756\n",
      "18    755\n",
      "25    755\n",
      "10    648\n",
      "24    648\n",
      "19    648\n",
      "01    648\n",
      "05    648\n",
      "17    648\n",
      "08    648\n",
      "15    648\n",
      "26    648\n",
      "03    648\n",
      "12    648\n",
      "22    648\n",
      "14    540\n",
      "29    540\n",
      "21    540\n",
      "28    540\n",
      "07    540\n",
      "20    540\n",
      "13    540\n",
      "27    540\n",
      "06    539\n",
      "31    432\n",
      "09    432\n",
      "16    432\n",
      "02    432\n",
      "30    432\n",
      "23    432\n",
      "Name: Dates, dtype: int64\n"
     ]
    },
    {
     "data": {
      "image/png": "[encoded data removed]",
      "text/plain": [
       "<Figure size 720x360 with 1 Axes>"
      ]
     },
     "metadata": {
      "needs_background": "light"
     },
     "output_type": "display_data"
    }
   ],
   "source": [
    "print(df['Dates'].value_counts())\n",
    "plt.figure(figsize=(10,5))\n",
    "sns.countplot(x='Dates',data=df)\n",
    "plt.show()"
   ]
  },
  {
   "cell_type": "code",
   "execution_count": 19,
   "id": "814dba71",
   "metadata": {},
   "outputs": [
    {
     "name": "stdout",
     "output_type": "stream",
     "text": [
      "1.15    202\n",
      "1.18    199\n",
      "1.08    194\n",
      "1.26    193\n",
      "1.13    192\n",
      "       ... \n",
      "2.91      1\n",
      "2.68      1\n",
      "3.04      1\n",
      "3.17      1\n",
      "3.03      1\n",
      "Name: AveragePrice, Length: 259, dtype: int64\n"
     ]
    },
    {
     "data": {
      "image/png": "[encoded data removed]",
      "text/plain": [
       "<Figure size 432x288 with 1 Axes>"
      ]
     },
     "metadata": {
      "needs_background": "light"
     },
     "output_type": "display_data"
    }
   ],
   "source": [
    "print(df['AveragePrice'].value_counts())\n",
    "sns.distplot(df['AveragePrice'],color='g')\n",
    "plt.show()"
   ]
  },
  {
   "cell_type": "code",
   "execution_count": 20,
   "id": "da36ea75",
   "metadata": {},
   "outputs": [],
   "source": [
    "df['Year']=df['Year'].astype(int)\n",
    "df['Month']=df['Month'].astype(int)\n",
    "df['Dates']=df['Dates'].astype(int)\n",
    "# df.drop(columns=['Dates'],inplace=True)"
   ]
  },
  {
   "cell_type": "code",
   "execution_count": 21,
   "id": "39b50f7d",
   "metadata": {},
   "outputs": [
    {
     "name": "stdout",
     "output_type": "stream",
     "text": [
      "['type', 'region']\n"
     ]
    }
   ],
   "source": [
    "#checking th categorical columns\n",
    "cat_col=[]\n",
    "for i in df.dtypes.index:\n",
    "    if df.dtypes[i]=='object':\n",
    "        cat_col.append(i)\n",
    "print(cat_col)"
   ]
  },
  {
   "cell_type": "code",
   "execution_count": 22,
   "id": "01c4ff6a",
   "metadata": {},
   "outputs": [
    {
     "name": "stdout",
     "output_type": "stream",
     "text": [
      "['AveragePrice', 'Total Volume', '4046', '4225', '4770', 'Total Bags', 'Small Bags', 'Large Bags', 'XLarge Bags', 'Year', 'Month', 'Dates']\n"
     ]
    }
   ],
   "source": [
    "num=[]\n",
    "for i in df.dtypes.index:\n",
    "    if df.dtypes[i]!='object':\n",
    "        num.append(i)\n",
    "print(num)\n",
    "    "
   ]
  },
  {
   "cell_type": "code",
   "execution_count": 23,
   "id": "2ccb8e53",
   "metadata": {},
   "outputs": [
    {
     "data": {
      "image/png": "[encoded data removed]",
      "text/plain": [
       "<Figure size 1080x1080 with 12 Axes>"
      ]
     },
     "metadata": {
      "needs_background": "light"
     },
     "output_type": "display_data"
    }
   ],
   "source": [
    "plt.figure(figsize=(15,15))\n",
    "plotnumber=1\n",
    "\n",
    "for i in num:\n",
    "    if plotnumber<=12:\n",
    "        ax=plt.subplot(4,3,plotnumber)\n",
    "        sns.distplot(df[i], color='g')\n",
    "        plt.xlabel(i,fontsize=15)\n",
    "    plotnumber+=1\n",
    "plt.show()"
   ]
  },
  {
   "cell_type": "code",
   "execution_count": 24,
   "id": "b58c65c5",
   "metadata": {},
   "outputs": [],
   "source": [
    "# sns.pairplot(df)"
   ]
  },
  {
   "cell_type": "code",
   "execution_count": 25,
   "id": "2ab781d8",
   "metadata": {},
   "outputs": [
    {
     "data": {
      "image/png": "[encoded data removed]",
      "text/plain": [
       "<Figure size 720x576 with 1 Axes>"
      ]
     },
     "metadata": {
      "needs_background": "light"
     },
     "output_type": "display_data"
    }
   ],
   "source": [
    "plt.figure(figsize=(10,8))\n",
    "sns.lineplot(x='Year', y='AveragePrice', hue='type', data=df)\n",
    "plt.title('Average price of avocado based on year and type of avocado',fontsize=15)\n",
    "plt.xlabel('Year',fontsize=15)\n",
    "plt.ylabel('Average price in USD',fontsize=15)\n",
    "plt.show()"
   ]
  },
  {
   "cell_type": "code",
   "execution_count": 26,
   "id": "e3eaceeb",
   "metadata": {},
   "outputs": [
    {
     "data": {
      "text/html": [
       "<div>\n",
       "<style scoped>\n",
       "    .dataframe tbody tr th:only-of-type {\n",
       "        vertical-align: middle;\n",
       "    }\n",
       "\n",
       "    .dataframe tbody tr th {\n",
       "        vertical-align: top;\n",
       "    }\n",
       "\n",
       "    .dataframe thead th {\n",
       "        text-align: right;\n",
       "    }\n",
       "</style>\n",
       "<table border=\"1\" class=\"dataframe\">\n",
       "  <thead>\n",
       "    <tr style=\"text-align: right;\">\n",
       "      <th></th>\n",
       "      <th>AveragePrice</th>\n",
       "      <th>Total Volume</th>\n",
       "      <th>4046</th>\n",
       "      <th>4225</th>\n",
       "      <th>4770</th>\n",
       "      <th>Total Bags</th>\n",
       "      <th>Small Bags</th>\n",
       "      <th>Large Bags</th>\n",
       "      <th>XLarge Bags</th>\n",
       "      <th>type</th>\n",
       "      <th>region</th>\n",
       "      <th>Year</th>\n",
       "      <th>Month</th>\n",
       "      <th>Dates</th>\n",
       "    </tr>\n",
       "  </thead>\n",
       "  <tbody>\n",
       "    <tr>\n",
       "      <th>0</th>\n",
       "      <td>1.33</td>\n",
       "      <td>64236.62</td>\n",
       "      <td>1036.74</td>\n",
       "      <td>54454.85</td>\n",
       "      <td>48.16</td>\n",
       "      <td>8696.87</td>\n",
       "      <td>8603.62</td>\n",
       "      <td>93.25</td>\n",
       "      <td>0.0</td>\n",
       "      <td>0.0</td>\n",
       "      <td>0.0</td>\n",
       "      <td>2015</td>\n",
       "      <td>12</td>\n",
       "      <td>27</td>\n",
       "    </tr>\n",
       "    <tr>\n",
       "      <th>1</th>\n",
       "      <td>1.35</td>\n",
       "      <td>54876.98</td>\n",
       "      <td>674.28</td>\n",
       "      <td>44638.81</td>\n",
       "      <td>58.33</td>\n",
       "      <td>9505.56</td>\n",
       "      <td>9408.07</td>\n",
       "      <td>97.49</td>\n",
       "      <td>0.0</td>\n",
       "      <td>0.0</td>\n",
       "      <td>0.0</td>\n",
       "      <td>2015</td>\n",
       "      <td>12</td>\n",
       "      <td>20</td>\n",
       "    </tr>\n",
       "    <tr>\n",
       "      <th>2</th>\n",
       "      <td>0.93</td>\n",
       "      <td>118220.22</td>\n",
       "      <td>794.70</td>\n",
       "      <td>109149.67</td>\n",
       "      <td>130.50</td>\n",
       "      <td>8145.35</td>\n",
       "      <td>8042.21</td>\n",
       "      <td>103.14</td>\n",
       "      <td>0.0</td>\n",
       "      <td>0.0</td>\n",
       "      <td>0.0</td>\n",
       "      <td>2015</td>\n",
       "      <td>12</td>\n",
       "      <td>13</td>\n",
       "    </tr>\n",
       "    <tr>\n",
       "      <th>3</th>\n",
       "      <td>1.08</td>\n",
       "      <td>78992.15</td>\n",
       "      <td>1132.00</td>\n",
       "      <td>71976.41</td>\n",
       "      <td>72.58</td>\n",
       "      <td>5811.16</td>\n",
       "      <td>5677.40</td>\n",
       "      <td>133.76</td>\n",
       "      <td>0.0</td>\n",
       "      <td>0.0</td>\n",
       "      <td>0.0</td>\n",
       "      <td>2015</td>\n",
       "      <td>12</td>\n",
       "      <td>6</td>\n",
       "    </tr>\n",
       "    <tr>\n",
       "      <th>4</th>\n",
       "      <td>1.28</td>\n",
       "      <td>51039.60</td>\n",
       "      <td>941.48</td>\n",
       "      <td>43838.39</td>\n",
       "      <td>75.78</td>\n",
       "      <td>6183.95</td>\n",
       "      <td>5986.26</td>\n",
       "      <td>197.69</td>\n",
       "      <td>0.0</td>\n",
       "      <td>0.0</td>\n",
       "      <td>0.0</td>\n",
       "      <td>2015</td>\n",
       "      <td>11</td>\n",
       "      <td>29</td>\n",
       "    </tr>\n",
       "    <tr>\n",
       "      <th>...</th>\n",
       "      <td>...</td>\n",
       "      <td>...</td>\n",
       "      <td>...</td>\n",
       "      <td>...</td>\n",
       "      <td>...</td>\n",
       "      <td>...</td>\n",
       "      <td>...</td>\n",
       "      <td>...</td>\n",
       "      <td>...</td>\n",
       "      <td>...</td>\n",
       "      <td>...</td>\n",
       "      <td>...</td>\n",
       "      <td>...</td>\n",
       "      <td>...</td>\n",
       "    </tr>\n",
       "    <tr>\n",
       "      <th>18244</th>\n",
       "      <td>1.63</td>\n",
       "      <td>17074.83</td>\n",
       "      <td>2046.96</td>\n",
       "      <td>1529.20</td>\n",
       "      <td>0.00</td>\n",
       "      <td>13498.67</td>\n",
       "      <td>13066.82</td>\n",
       "      <td>431.85</td>\n",
       "      <td>0.0</td>\n",
       "      <td>1.0</td>\n",
       "      <td>53.0</td>\n",
       "      <td>2018</td>\n",
       "      <td>2</td>\n",
       "      <td>4</td>\n",
       "    </tr>\n",
       "    <tr>\n",
       "      <th>18245</th>\n",
       "      <td>1.71</td>\n",
       "      <td>13888.04</td>\n",
       "      <td>1191.70</td>\n",
       "      <td>3431.50</td>\n",
       "      <td>0.00</td>\n",
       "      <td>9264.84</td>\n",
       "      <td>8940.04</td>\n",
       "      <td>324.80</td>\n",
       "      <td>0.0</td>\n",
       "      <td>1.0</td>\n",
       "      <td>53.0</td>\n",
       "      <td>2018</td>\n",
       "      <td>1</td>\n",
       "      <td>28</td>\n",
       "    </tr>\n",
       "    <tr>\n",
       "      <th>18246</th>\n",
       "      <td>1.87</td>\n",
       "      <td>13766.76</td>\n",
       "      <td>1191.92</td>\n",
       "      <td>2452.79</td>\n",
       "      <td>727.94</td>\n",
       "      <td>9394.11</td>\n",
       "      <td>9351.80</td>\n",
       "      <td>42.31</td>\n",
       "      <td>0.0</td>\n",
       "      <td>1.0</td>\n",
       "      <td>53.0</td>\n",
       "      <td>2018</td>\n",
       "      <td>1</td>\n",
       "      <td>21</td>\n",
       "    </tr>\n",
       "    <tr>\n",
       "      <th>18247</th>\n",
       "      <td>1.93</td>\n",
       "      <td>16205.22</td>\n",
       "      <td>1527.63</td>\n",
       "      <td>2981.04</td>\n",
       "      <td>727.01</td>\n",
       "      <td>10969.54</td>\n",
       "      <td>10919.54</td>\n",
       "      <td>50.00</td>\n",
       "      <td>0.0</td>\n",
       "      <td>1.0</td>\n",
       "      <td>53.0</td>\n",
       "      <td>2018</td>\n",
       "      <td>1</td>\n",
       "      <td>14</td>\n",
       "    </tr>\n",
       "    <tr>\n",
       "      <th>18248</th>\n",
       "      <td>1.62</td>\n",
       "      <td>17489.58</td>\n",
       "      <td>2894.77</td>\n",
       "      <td>2356.13</td>\n",
       "      <td>224.53</td>\n",
       "      <td>12014.15</td>\n",
       "      <td>11988.14</td>\n",
       "      <td>26.01</td>\n",
       "      <td>0.0</td>\n",
       "      <td>1.0</td>\n",
       "      <td>53.0</td>\n",
       "      <td>2018</td>\n",
       "      <td>1</td>\n",
       "      <td>7</td>\n",
       "    </tr>\n",
       "  </tbody>\n",
       "</table>\n",
       "<p>18249 rows × 14 columns</p>\n",
       "</div>"
      ],
      "text/plain": [
       "       AveragePrice  Total Volume     4046       4225    4770  Total Bags  \\\n",
       "0              1.33      64236.62  1036.74   54454.85   48.16     8696.87   \n",
       "1              1.35      54876.98   674.28   44638.81   58.33     9505.56   \n",
       "2              0.93     118220.22   794.70  109149.67  130.50     8145.35   \n",
       "3              1.08      78992.15  1132.00   71976.41   72.58     5811.16   \n",
       "4              1.28      51039.60   941.48   43838.39   75.78     6183.95   \n",
       "...             ...           ...      ...        ...     ...         ...   \n",
       "18244          1.63      17074.83  2046.96    1529.20    0.00    13498.67   \n",
       "18245          1.71      13888.04  1191.70    3431.50    0.00     9264.84   \n",
       "18246          1.87      13766.76  1191.92    2452.79  727.94     9394.11   \n",
       "18247          1.93      16205.22  1527.63    2981.04  727.01    10969.54   \n",
       "18248          1.62      17489.58  2894.77    2356.13  224.53    12014.15   \n",
       "\n",
       "       Small Bags  Large Bags  XLarge Bags  type  region  Year  Month  Dates  \n",
       "0         8603.62       93.25          0.0   0.0     0.0  2015     12     27  \n",
       "1         9408.07       97.49          0.0   0.0     0.0  2015     12     20  \n",
       "2         8042.21      103.14          0.0   0.0     0.0  2015     12     13  \n",
       "3         5677.40      133.76          0.0   0.0     0.0  2015     12      6  \n",
       "4         5986.26      197.69          0.0   0.0     0.0  2015     11     29  \n",
       "...           ...         ...          ...   ...     ...   ...    ...    ...  \n",
       "18244    13066.82      431.85          0.0   1.0    53.0  2018      2      4  \n",
       "18245     8940.04      324.80          0.0   1.0    53.0  2018      1     28  \n",
       "18246     9351.80       42.31          0.0   1.0    53.0  2018      1     21  \n",
       "18247    10919.54       50.00          0.0   1.0    53.0  2018      1     14  \n",
       "18248    11988.14       26.01          0.0   1.0    53.0  2018      1      7  \n",
       "\n",
       "[18249 rows x 14 columns]"
      ]
     },
     "execution_count": 26,
     "metadata": {},
     "output_type": "execute_result"
    }
   ],
   "source": [
    "from sklearn.preprocessing import OrdinalEncoder\n",
    "oe=OrdinalEncoder()\n",
    "df['region']=oe.fit_transform(df['region'].values.reshape(-1,1))\n",
    "df['type']=oe.fit_transform(df['type'].values.reshape(-1,1))\n",
    "df"
   ]
  },
  {
   "cell_type": "markdown",
   "id": "a234a16e",
   "metadata": {},
   "source": [
    "## Box Plot"
   ]
  },
  {
   "cell_type": "code",
   "execution_count": 27,
   "id": "ce3343ab",
   "metadata": {},
   "outputs": [
    {
     "data": {
      "image/png": "[encoded data removed]",
      "text/plain": [
       "<Figure size 1440x1440 with 14 Axes>"
      ]
     },
     "metadata": {
      "needs_background": "light"
     },
     "output_type": "display_data"
    }
   ],
   "source": [
    "# from boxplot we understand how data is divide and also find outlier in the dataset\n",
    "plt.figure(figsize=(20,20))\n",
    "plotnum=1\n",
    "\n",
    "for i in df:\n",
    "    if plotnum<=14:\n",
    "        ax=plt.subplot(4,4,plotnum)\n",
    "        sns.boxplot(df[i],color='g')\n",
    "        plt.xlabel(i,fontsize=20)\n",
    "    plotnum+=1\n",
    "plt.show()"
   ]
  },
  {
   "cell_type": "code",
   "execution_count": 28,
   "id": "fba460f2",
   "metadata": {},
   "outputs": [
    {
     "data": {
      "text/html": [
       "<div>\n",
       "<style scoped>\n",
       "    .dataframe tbody tr th:only-of-type {\n",
       "        vertical-align: middle;\n",
       "    }\n",
       "\n",
       "    .dataframe tbody tr th {\n",
       "        vertical-align: top;\n",
       "    }\n",
       "\n",
       "    .dataframe thead th {\n",
       "        text-align: right;\n",
       "    }\n",
       "</style>\n",
       "<table border=\"1\" class=\"dataframe\">\n",
       "  <thead>\n",
       "    <tr style=\"text-align: right;\">\n",
       "      <th></th>\n",
       "      <th>AveragePrice</th>\n",
       "      <th>Total Volume</th>\n",
       "      <th>4046</th>\n",
       "      <th>4225</th>\n",
       "      <th>4770</th>\n",
       "      <th>Total Bags</th>\n",
       "      <th>Small Bags</th>\n",
       "      <th>Large Bags</th>\n",
       "      <th>XLarge Bags</th>\n",
       "      <th>type</th>\n",
       "      <th>region</th>\n",
       "      <th>Year</th>\n",
       "      <th>Month</th>\n",
       "      <th>Dates</th>\n",
       "    </tr>\n",
       "  </thead>\n",
       "  <tbody>\n",
       "    <tr>\n",
       "      <th>AveragePrice</th>\n",
       "      <td>1.000000</td>\n",
       "      <td>-0.192752</td>\n",
       "      <td>-0.208317</td>\n",
       "      <td>-0.172928</td>\n",
       "      <td>-0.179446</td>\n",
       "      <td>-0.177088</td>\n",
       "      <td>-0.174730</td>\n",
       "      <td>-0.172940</td>\n",
       "      <td>-0.117592</td>\n",
       "      <td>0.615845</td>\n",
       "      <td>-0.011716</td>\n",
       "      <td>0.093197</td>\n",
       "      <td>0.162409</td>\n",
       "      <td>0.027386</td>\n",
       "    </tr>\n",
       "    <tr>\n",
       "      <th>Total Volume</th>\n",
       "      <td>-0.192752</td>\n",
       "      <td>1.000000</td>\n",
       "      <td>0.977863</td>\n",
       "      <td>0.974181</td>\n",
       "      <td>0.872202</td>\n",
       "      <td>0.963047</td>\n",
       "      <td>0.967238</td>\n",
       "      <td>0.880640</td>\n",
       "      <td>0.747157</td>\n",
       "      <td>-0.232434</td>\n",
       "      <td>0.174176</td>\n",
       "      <td>0.017193</td>\n",
       "      <td>-0.024689</td>\n",
       "      <td>-0.009747</td>\n",
       "    </tr>\n",
       "    <tr>\n",
       "      <th>4046</th>\n",
       "      <td>-0.208317</td>\n",
       "      <td>0.977863</td>\n",
       "      <td>1.000000</td>\n",
       "      <td>0.926110</td>\n",
       "      <td>0.833389</td>\n",
       "      <td>0.920057</td>\n",
       "      <td>0.925280</td>\n",
       "      <td>0.838645</td>\n",
       "      <td>0.699377</td>\n",
       "      <td>-0.225819</td>\n",
       "      <td>0.192073</td>\n",
       "      <td>0.003353</td>\n",
       "      <td>-0.025803</td>\n",
       "      <td>-0.010159</td>\n",
       "    </tr>\n",
       "    <tr>\n",
       "      <th>4225</th>\n",
       "      <td>-0.172928</td>\n",
       "      <td>0.974181</td>\n",
       "      <td>0.926110</td>\n",
       "      <td>1.000000</td>\n",
       "      <td>0.887855</td>\n",
       "      <td>0.905787</td>\n",
       "      <td>0.916031</td>\n",
       "      <td>0.810015</td>\n",
       "      <td>0.688809</td>\n",
       "      <td>-0.232289</td>\n",
       "      <td>0.145726</td>\n",
       "      <td>-0.009559</td>\n",
       "      <td>-0.022108</td>\n",
       "      <td>-0.012393</td>\n",
       "    </tr>\n",
       "    <tr>\n",
       "      <th>4770</th>\n",
       "      <td>-0.179446</td>\n",
       "      <td>0.872202</td>\n",
       "      <td>0.833389</td>\n",
       "      <td>0.887855</td>\n",
       "      <td>1.000000</td>\n",
       "      <td>0.792314</td>\n",
       "      <td>0.802733</td>\n",
       "      <td>0.698471</td>\n",
       "      <td>0.679861</td>\n",
       "      <td>-0.210027</td>\n",
       "      <td>0.095252</td>\n",
       "      <td>-0.036531</td>\n",
       "      <td>-0.033424</td>\n",
       "      <td>-0.009009</td>\n",
       "    </tr>\n",
       "    <tr>\n",
       "      <th>Total Bags</th>\n",
       "      <td>-0.177088</td>\n",
       "      <td>0.963047</td>\n",
       "      <td>0.920057</td>\n",
       "      <td>0.905787</td>\n",
       "      <td>0.792314</td>\n",
       "      <td>1.000000</td>\n",
       "      <td>0.994335</td>\n",
       "      <td>0.943009</td>\n",
       "      <td>0.804233</td>\n",
       "      <td>-0.217788</td>\n",
       "      <td>0.175256</td>\n",
       "      <td>0.071552</td>\n",
       "      <td>-0.022724</td>\n",
       "      <td>-0.004988</td>\n",
       "    </tr>\n",
       "    <tr>\n",
       "      <th>Small Bags</th>\n",
       "      <td>-0.174730</td>\n",
       "      <td>0.967238</td>\n",
       "      <td>0.925280</td>\n",
       "      <td>0.916031</td>\n",
       "      <td>0.802733</td>\n",
       "      <td>0.994335</td>\n",
       "      <td>1.000000</td>\n",
       "      <td>0.902589</td>\n",
       "      <td>0.806845</td>\n",
       "      <td>-0.220535</td>\n",
       "      <td>0.164702</td>\n",
       "      <td>0.063915</td>\n",
       "      <td>-0.023126</td>\n",
       "      <td>-0.003870</td>\n",
       "    </tr>\n",
       "    <tr>\n",
       "      <th>Large Bags</th>\n",
       "      <td>-0.172940</td>\n",
       "      <td>0.880640</td>\n",
       "      <td>0.838645</td>\n",
       "      <td>0.810015</td>\n",
       "      <td>0.698471</td>\n",
       "      <td>0.943009</td>\n",
       "      <td>0.902589</td>\n",
       "      <td>1.000000</td>\n",
       "      <td>0.710858</td>\n",
       "      <td>-0.193177</td>\n",
       "      <td>0.198768</td>\n",
       "      <td>0.087891</td>\n",
       "      <td>-0.020187</td>\n",
       "      <td>-0.008352</td>\n",
       "    </tr>\n",
       "    <tr>\n",
       "      <th>XLarge Bags</th>\n",
       "      <td>-0.117592</td>\n",
       "      <td>0.747157</td>\n",
       "      <td>0.699377</td>\n",
       "      <td>0.688809</td>\n",
       "      <td>0.679861</td>\n",
       "      <td>0.804233</td>\n",
       "      <td>0.806845</td>\n",
       "      <td>0.710858</td>\n",
       "      <td>1.000000</td>\n",
       "      <td>-0.175483</td>\n",
       "      <td>0.082281</td>\n",
       "      <td>0.081033</td>\n",
       "      <td>-0.012969</td>\n",
       "      <td>0.000319</td>\n",
       "    </tr>\n",
       "    <tr>\n",
       "      <th>type</th>\n",
       "      <td>0.615845</td>\n",
       "      <td>-0.232434</td>\n",
       "      <td>-0.225819</td>\n",
       "      <td>-0.232289</td>\n",
       "      <td>-0.210027</td>\n",
       "      <td>-0.217788</td>\n",
       "      <td>-0.220535</td>\n",
       "      <td>-0.193177</td>\n",
       "      <td>-0.175483</td>\n",
       "      <td>1.000000</td>\n",
       "      <td>-0.000280</td>\n",
       "      <td>-0.000032</td>\n",
       "      <td>-0.000085</td>\n",
       "      <td>-0.000013</td>\n",
       "    </tr>\n",
       "    <tr>\n",
       "      <th>region</th>\n",
       "      <td>-0.011716</td>\n",
       "      <td>0.174176</td>\n",
       "      <td>0.192073</td>\n",
       "      <td>0.145726</td>\n",
       "      <td>0.095252</td>\n",
       "      <td>0.175256</td>\n",
       "      <td>0.164702</td>\n",
       "      <td>0.198768</td>\n",
       "      <td>0.082281</td>\n",
       "      <td>-0.000280</td>\n",
       "      <td>1.000000</td>\n",
       "      <td>-0.000055</td>\n",
       "      <td>-0.000144</td>\n",
       "      <td>-0.000021</td>\n",
       "    </tr>\n",
       "    <tr>\n",
       "      <th>Year</th>\n",
       "      <td>0.093197</td>\n",
       "      <td>0.017193</td>\n",
       "      <td>0.003353</td>\n",
       "      <td>-0.009559</td>\n",
       "      <td>-0.036531</td>\n",
       "      <td>0.071552</td>\n",
       "      <td>0.063915</td>\n",
       "      <td>0.087891</td>\n",
       "      <td>0.081033</td>\n",
       "      <td>-0.000032</td>\n",
       "      <td>-0.000055</td>\n",
       "      <td>1.000000</td>\n",
       "      <td>-0.177050</td>\n",
       "      <td>0.004475</td>\n",
       "    </tr>\n",
       "    <tr>\n",
       "      <th>Month</th>\n",
       "      <td>0.162409</td>\n",
       "      <td>-0.024689</td>\n",
       "      <td>-0.025803</td>\n",
       "      <td>-0.022108</td>\n",
       "      <td>-0.033424</td>\n",
       "      <td>-0.022724</td>\n",
       "      <td>-0.023126</td>\n",
       "      <td>-0.020187</td>\n",
       "      <td>-0.012969</td>\n",
       "      <td>-0.000085</td>\n",
       "      <td>-0.000144</td>\n",
       "      <td>-0.177050</td>\n",
       "      <td>1.000000</td>\n",
       "      <td>0.010621</td>\n",
       "    </tr>\n",
       "    <tr>\n",
       "      <th>Dates</th>\n",
       "      <td>0.027386</td>\n",
       "      <td>-0.009747</td>\n",
       "      <td>-0.010159</td>\n",
       "      <td>-0.012393</td>\n",
       "      <td>-0.009009</td>\n",
       "      <td>-0.004988</td>\n",
       "      <td>-0.003870</td>\n",
       "      <td>-0.008352</td>\n",
       "      <td>0.000319</td>\n",
       "      <td>-0.000013</td>\n",
       "      <td>-0.000021</td>\n",
       "      <td>0.004475</td>\n",
       "      <td>0.010621</td>\n",
       "      <td>1.000000</td>\n",
       "    </tr>\n",
       "  </tbody>\n",
       "</table>\n",
       "</div>"
      ],
      "text/plain": [
       "              AveragePrice  Total Volume      4046      4225      4770  \\\n",
       "AveragePrice      1.000000     -0.192752 -0.208317 -0.172928 -0.179446   \n",
       "Total Volume     -0.192752      1.000000  0.977863  0.974181  0.872202   \n",
       "4046             -0.208317      0.977863  1.000000  0.926110  0.833389   \n",
       "4225             -0.172928      0.974181  0.926110  1.000000  0.887855   \n",
       "4770             -0.179446      0.872202  0.833389  0.887855  1.000000   \n",
       "Total Bags       -0.177088      0.963047  0.920057  0.905787  0.792314   \n",
       "Small Bags       -0.174730      0.967238  0.925280  0.916031  0.802733   \n",
       "Large Bags       -0.172940      0.880640  0.838645  0.810015  0.698471   \n",
       "XLarge Bags      -0.117592      0.747157  0.699377  0.688809  0.679861   \n",
       "type              0.615845     -0.232434 -0.225819 -0.232289 -0.210027   \n",
       "region           -0.011716      0.174176  0.192073  0.145726  0.095252   \n",
       "Year              0.093197      0.017193  0.003353 -0.009559 -0.036531   \n",
       "Month             0.162409     -0.024689 -0.025803 -0.022108 -0.033424   \n",
       "Dates             0.027386     -0.009747 -0.010159 -0.012393 -0.009009   \n",
       "\n",
       "              Total Bags  Small Bags  Large Bags  XLarge Bags      type  \\\n",
       "AveragePrice   -0.177088   -0.174730   -0.172940    -0.117592  0.615845   \n",
       "Total Volume    0.963047    0.967238    0.880640     0.747157 -0.232434   \n",
       "4046            0.920057    0.925280    0.838645     0.699377 -0.225819   \n",
       "4225            0.905787    0.916031    0.810015     0.688809 -0.232289   \n",
       "4770            0.792314    0.802733    0.698471     0.679861 -0.210027   \n",
       "Total Bags      1.000000    0.994335    0.943009     0.804233 -0.217788   \n",
       "Small Bags      0.994335    1.000000    0.902589     0.806845 -0.220535   \n",
       "Large Bags      0.943009    0.902589    1.000000     0.710858 -0.193177   \n",
       "XLarge Bags     0.804233    0.806845    0.710858     1.000000 -0.175483   \n",
       "type           -0.217788   -0.220535   -0.193177    -0.175483  1.000000   \n",
       "region          0.175256    0.164702    0.198768     0.082281 -0.000280   \n",
       "Year            0.071552    0.063915    0.087891     0.081033 -0.000032   \n",
       "Month          -0.022724   -0.023126   -0.020187    -0.012969 -0.000085   \n",
       "Dates          -0.004988   -0.003870   -0.008352     0.000319 -0.000013   \n",
       "\n",
       "                region      Year     Month     Dates  \n",
       "AveragePrice -0.011716  0.093197  0.162409  0.027386  \n",
       "Total Volume  0.174176  0.017193 -0.024689 -0.009747  \n",
       "4046          0.192073  0.003353 -0.025803 -0.010159  \n",
       "4225          0.145726 -0.009559 -0.022108 -0.012393  \n",
       "4770          0.095252 -0.036531 -0.033424 -0.009009  \n",
       "Total Bags    0.175256  0.071552 -0.022724 -0.004988  \n",
       "Small Bags    0.164702  0.063915 -0.023126 -0.003870  \n",
       "Large Bags    0.198768  0.087891 -0.020187 -0.008352  \n",
       "XLarge Bags   0.082281  0.081033 -0.012969  0.000319  \n",
       "type         -0.000280 -0.000032 -0.000085 -0.000013  \n",
       "region        1.000000 -0.000055 -0.000144 -0.000021  \n",
       "Year         -0.000055  1.000000 -0.177050  0.004475  \n",
       "Month        -0.000144 -0.177050  1.000000  0.010621  \n",
       "Dates        -0.000021  0.004475  0.010621  1.000000  "
      ]
     },
     "execution_count": 28,
     "metadata": {},
     "output_type": "execute_result"
    }
   ],
   "source": [
    "# orrelation matrix\n",
    "df.corr()"
   ]
  },
  {
   "cell_type": "markdown",
   "id": "1941e05e",
   "metadata": {},
   "source": [
    "## Heatmap"
   ]
  },
  {
   "cell_type": "code",
   "execution_count": 29,
   "id": "fbebf321",
   "metadata": {},
   "outputs": [
    {
     "data": {
      "text/plain": [
       "<AxesSubplot:>"
      ]
     },
     "execution_count": 29,
     "metadata": {},
     "output_type": "execute_result"
    },
    {
     "data": {
      "image/png": "[encoded data removed]",
      "text/plain": [
       "<Figure size 1080x576 with 2 Axes>"
      ]
     },
     "metadata": {
      "needs_background": "light"
     },
     "output_type": "display_data"
    }
   ],
   "source": [
    "plt.figure(figsize=(15,8))\n",
    "sns.heatmap(df.corr(),annot=True, linewidth=0.5, linecolor='black', fmt='.2f')"
   ]
  },
  {
   "cell_type": "markdown",
   "id": "44981837",
   "metadata": {},
   "source": [
    "## Zscore for removal of outliers"
   ]
  },
  {
   "cell_type": "code",
   "execution_count": 30,
   "id": "81208f27",
   "metadata": {},
   "outputs": [],
   "source": [
    "z=np.abs(zscore(df))\n",
    "threshold=3\n",
    "df_new=df[(z<3).all(axis=1)]"
   ]
  },
  {
   "cell_type": "code",
   "execution_count": 31,
   "id": "8bb4e447",
   "metadata": {},
   "outputs": [
    {
     "name": "stdout",
     "output_type": "stream",
     "text": [
      "(18249, 14)\n",
      "(17651, 14)\n"
     ]
    }
   ],
   "source": [
    "print(df.shape)\n",
    "print(df_new.shape)"
   ]
  },
  {
   "cell_type": "code",
   "execution_count": 32,
   "id": "7968d281",
   "metadata": {},
   "outputs": [
    {
     "data": {
      "text/plain": [
       "3.276891884486821"
      ]
     },
     "execution_count": 32,
     "metadata": {},
     "output_type": "execute_result"
    }
   ],
   "source": [
    "# percentage loss of data\n",
    "loss=(18249-17651)/18249*100\n",
    "loss"
   ]
  },
  {
   "cell_type": "markdown",
   "id": "4059748d",
   "metadata": {},
   "source": [
    "using zscore 3.27% data is loss which is fine ,we can go ahead with this for model"
   ]
  },
  {
   "cell_type": "code",
   "execution_count": 33,
   "id": "41ff95cd",
   "metadata": {},
   "outputs": [
    {
     "data": {
      "text/plain": [
       "AveragePrice    0.377432\n",
       "Total Volume    3.767138\n",
       "4046            4.909848\n",
       "4225            4.455745\n",
       "4770            5.117170\n",
       "Total Bags      4.066771\n",
       "Small Bags      4.222706\n",
       "Large Bags      5.053434\n",
       "XLarge Bags     6.135607\n",
       "type           -0.037741\n",
       "region          0.012798\n",
       "Year            0.229976\n",
       "Month           0.107408\n",
       "Dates           0.011778\n",
       "dtype: float64"
      ]
     },
     "execution_count": 33,
     "metadata": {},
     "output_type": "execute_result"
    }
   ],
   "source": [
    "df_new.skew()"
   ]
  },
  {
   "cell_type": "markdown",
   "id": "7e55d541",
   "metadata": {},
   "source": [
    "## Splitting the dataset into X and Y Variable"
   ]
  },
  {
   "cell_type": "code",
   "execution_count": 34,
   "id": "66b97408",
   "metadata": {},
   "outputs": [],
   "source": [
    "x=df_new.drop('AveragePrice',axis=1)\n",
    "y=df_new['AveragePrice']"
   ]
  },
  {
   "cell_type": "code",
   "execution_count": 35,
   "id": "27edd2e6",
   "metadata": {},
   "outputs": [
    {
     "data": {
      "text/html": [
       "<div>\n",
       "<style scoped>\n",
       "    .dataframe tbody tr th:only-of-type {\n",
       "        vertical-align: middle;\n",
       "    }\n",
       "\n",
       "    .dataframe tbody tr th {\n",
       "        vertical-align: top;\n",
       "    }\n",
       "\n",
       "    .dataframe thead th {\n",
       "        text-align: right;\n",
       "    }\n",
       "</style>\n",
       "<table border=\"1\" class=\"dataframe\">\n",
       "  <thead>\n",
       "    <tr style=\"text-align: right;\">\n",
       "      <th></th>\n",
       "      <th>Total Volume</th>\n",
       "      <th>4046</th>\n",
       "      <th>4225</th>\n",
       "      <th>4770</th>\n",
       "      <th>Total Bags</th>\n",
       "      <th>Small Bags</th>\n",
       "      <th>Large Bags</th>\n",
       "      <th>XLarge Bags</th>\n",
       "      <th>type</th>\n",
       "      <th>region</th>\n",
       "      <th>Year</th>\n",
       "      <th>Month</th>\n",
       "      <th>Dates</th>\n",
       "    </tr>\n",
       "  </thead>\n",
       "  <tbody>\n",
       "    <tr>\n",
       "      <th>0</th>\n",
       "      <td>-0.392009</td>\n",
       "      <td>-0.349452</td>\n",
       "      <td>-0.278497</td>\n",
       "      <td>-0.322219</td>\n",
       "      <td>-0.429348</td>\n",
       "      <td>-0.400967</td>\n",
       "      <td>-0.379832</td>\n",
       "      <td>-0.259027</td>\n",
       "      <td>-1.019047</td>\n",
       "      <td>-1.695495</td>\n",
       "      <td>-1.210013</td>\n",
       "      <td>1.644612</td>\n",
       "      <td>1.289309</td>\n",
       "    </tr>\n",
       "    <tr>\n",
       "      <th>1</th>\n",
       "      <td>-0.401251</td>\n",
       "      <td>-0.350276</td>\n",
       "      <td>-0.303093</td>\n",
       "      <td>-0.321924</td>\n",
       "      <td>-0.426481</td>\n",
       "      <td>-0.397462</td>\n",
       "      <td>-0.379774</td>\n",
       "      <td>-0.259027</td>\n",
       "      <td>-1.019047</td>\n",
       "      <td>-1.695495</td>\n",
       "      <td>-1.210013</td>\n",
       "      <td>1.644612</td>\n",
       "      <td>0.491652</td>\n",
       "    </tr>\n",
       "    <tr>\n",
       "      <th>2</th>\n",
       "      <td>-0.338702</td>\n",
       "      <td>-0.350002</td>\n",
       "      <td>-0.141449</td>\n",
       "      <td>-0.319832</td>\n",
       "      <td>-0.431303</td>\n",
       "      <td>-0.403413</td>\n",
       "      <td>-0.379696</td>\n",
       "      <td>-0.259027</td>\n",
       "      <td>-1.019047</td>\n",
       "      <td>-1.695495</td>\n",
       "      <td>-1.210013</td>\n",
       "      <td>1.644612</td>\n",
       "      <td>-0.306004</td>\n",
       "    </tr>\n",
       "    <tr>\n",
       "      <th>3</th>\n",
       "      <td>-0.377438</td>\n",
       "      <td>-0.349235</td>\n",
       "      <td>-0.234593</td>\n",
       "      <td>-0.321511</td>\n",
       "      <td>-0.439577</td>\n",
       "      <td>-0.413717</td>\n",
       "      <td>-0.379277</td>\n",
       "      <td>-0.259027</td>\n",
       "      <td>-1.019047</td>\n",
       "      <td>-1.695495</td>\n",
       "      <td>-1.210013</td>\n",
       "      <td>1.644612</td>\n",
       "      <td>-1.103660</td>\n",
       "    </tr>\n",
       "    <tr>\n",
       "      <th>4</th>\n",
       "      <td>-0.405040</td>\n",
       "      <td>-0.349668</td>\n",
       "      <td>-0.305098</td>\n",
       "      <td>-0.321418</td>\n",
       "      <td>-0.438256</td>\n",
       "      <td>-0.412371</td>\n",
       "      <td>-0.378402</td>\n",
       "      <td>-0.259027</td>\n",
       "      <td>-1.019047</td>\n",
       "      <td>-1.695495</td>\n",
       "      <td>-1.210013</td>\n",
       "      <td>1.362113</td>\n",
       "      <td>1.517211</td>\n",
       "    </tr>\n",
       "  </tbody>\n",
       "</table>\n",
       "</div>"
      ],
      "text/plain": [
       "   Total Volume      4046      4225      4770  Total Bags  Small Bags  \\\n",
       "0     -0.392009 -0.349452 -0.278497 -0.322219   -0.429348   -0.400967   \n",
       "1     -0.401251 -0.350276 -0.303093 -0.321924   -0.426481   -0.397462   \n",
       "2     -0.338702 -0.350002 -0.141449 -0.319832   -0.431303   -0.403413   \n",
       "3     -0.377438 -0.349235 -0.234593 -0.321511   -0.439577   -0.413717   \n",
       "4     -0.405040 -0.349668 -0.305098 -0.321418   -0.438256   -0.412371   \n",
       "\n",
       "   Large Bags  XLarge Bags      type    region      Year     Month     Dates  \n",
       "0   -0.379832    -0.259027 -1.019047 -1.695495 -1.210013  1.644612  1.289309  \n",
       "1   -0.379774    -0.259027 -1.019047 -1.695495 -1.210013  1.644612  0.491652  \n",
       "2   -0.379696    -0.259027 -1.019047 -1.695495 -1.210013  1.644612 -0.306004  \n",
       "3   -0.379277    -0.259027 -1.019047 -1.695495 -1.210013  1.644612 -1.103660  \n",
       "4   -0.378402    -0.259027 -1.019047 -1.695495 -1.210013  1.362113  1.517211  "
      ]
     },
     "execution_count": 35,
     "metadata": {},
     "output_type": "execute_result"
    }
   ],
   "source": [
    "sc=StandardScaler()\n",
    "x=pd.DataFrame(sc.fit_transform(x), columns=x.columns)\n",
    "x.head(5)"
   ]
  },
  {
   "cell_type": "markdown",
   "id": "c6e79520",
   "metadata": {},
   "source": [
    "### PCA"
   ]
  },
  {
   "cell_type": "code",
   "execution_count": 36,
   "id": "4f1f658e",
   "metadata": {},
   "outputs": [
    {
     "data": {
      "text/html": [
       "<div>\n",
       "<style scoped>\n",
       "    .dataframe tbody tr th:only-of-type {\n",
       "        vertical-align: middle;\n",
       "    }\n",
       "\n",
       "    .dataframe tbody tr th {\n",
       "        vertical-align: top;\n",
       "    }\n",
       "\n",
       "    .dataframe thead th {\n",
       "        text-align: right;\n",
       "    }\n",
       "</style>\n",
       "<table border=\"1\" class=\"dataframe\">\n",
       "  <thead>\n",
       "    <tr style=\"text-align: right;\">\n",
       "      <th></th>\n",
       "      <th>Total Volume</th>\n",
       "      <th>4046</th>\n",
       "      <th>4225</th>\n",
       "      <th>4770</th>\n",
       "      <th>Total Bags</th>\n",
       "      <th>Small Bags</th>\n",
       "      <th>Large Bags</th>\n",
       "      <th>XLarge Bags</th>\n",
       "      <th>type</th>\n",
       "      <th>region</th>\n",
       "      <th>Year</th>\n",
       "      <th>Month</th>\n",
       "      <th>Dates</th>\n",
       "    </tr>\n",
       "  </thead>\n",
       "  <tbody>\n",
       "    <tr>\n",
       "      <th>0</th>\n",
       "      <td>-0.853454</td>\n",
       "      <td>-2.314728</td>\n",
       "      <td>0.845142</td>\n",
       "      <td>-1.345231</td>\n",
       "      <td>-0.680276</td>\n",
       "      <td>-0.984216</td>\n",
       "      <td>-0.678839</td>\n",
       "      <td>0.387816</td>\n",
       "      <td>-0.300023</td>\n",
       "      <td>-0.110142</td>\n",
       "      <td>-0.054082</td>\n",
       "      <td>0.000002</td>\n",
       "      <td>5.485647e-09</td>\n",
       "    </tr>\n",
       "    <tr>\n",
       "      <th>1</th>\n",
       "      <td>-0.863021</td>\n",
       "      <td>-2.303081</td>\n",
       "      <td>0.827048</td>\n",
       "      <td>-0.559126</td>\n",
       "      <td>-0.807140</td>\n",
       "      <td>-0.985040</td>\n",
       "      <td>-0.644002</td>\n",
       "      <td>0.408073</td>\n",
       "      <td>-0.294996</td>\n",
       "      <td>-0.109340</td>\n",
       "      <td>-0.080666</td>\n",
       "      <td>0.000002</td>\n",
       "      <td>5.194611e-09</td>\n",
       "    </tr>\n",
       "    <tr>\n",
       "      <th>2</th>\n",
       "      <td>-0.784126</td>\n",
       "      <td>-2.315589</td>\n",
       "      <td>0.815266</td>\n",
       "      <td>0.235337</td>\n",
       "      <td>-0.900431</td>\n",
       "      <td>-0.977736</td>\n",
       "      <td>-0.631105</td>\n",
       "      <td>0.321327</td>\n",
       "      <td>-0.323475</td>\n",
       "      <td>-0.158940</td>\n",
       "      <td>0.013937</td>\n",
       "      <td>0.000003</td>\n",
       "      <td>4.415637e-09</td>\n",
       "    </tr>\n",
       "    <tr>\n",
       "      <th>3</th>\n",
       "      <td>-0.839448</td>\n",
       "      <td>-2.296825</td>\n",
       "      <td>0.795336</td>\n",
       "      <td>1.018878</td>\n",
       "      <td>-1.037567</td>\n",
       "      <td>-0.984927</td>\n",
       "      <td>-0.587172</td>\n",
       "      <td>0.382197</td>\n",
       "      <td>-0.301600</td>\n",
       "      <td>-0.131582</td>\n",
       "      <td>-0.042122</td>\n",
       "      <td>0.000003</td>\n",
       "      <td>4.392087e-09</td>\n",
       "    </tr>\n",
       "    <tr>\n",
       "      <th>4</th>\n",
       "      <td>-0.873338</td>\n",
       "      <td>-2.157968</td>\n",
       "      <td>0.927547</td>\n",
       "      <td>-1.538476</td>\n",
       "      <td>-0.436850</td>\n",
       "      <td>-0.984341</td>\n",
       "      <td>-0.687833</td>\n",
       "      <td>0.452986</td>\n",
       "      <td>-0.294913</td>\n",
       "      <td>-0.119204</td>\n",
       "      <td>-0.060293</td>\n",
       "      <td>0.000002</td>\n",
       "      <td>5.014374e-09</td>\n",
       "    </tr>\n",
       "  </tbody>\n",
       "</table>\n",
       "</div>"
      ],
      "text/plain": [
       "   Total Volume      4046      4225      4770  Total Bags  Small Bags  \\\n",
       "0     -0.853454 -2.314728  0.845142 -1.345231   -0.680276   -0.984216   \n",
       "1     -0.863021 -2.303081  0.827048 -0.559126   -0.807140   -0.985040   \n",
       "2     -0.784126 -2.315589  0.815266  0.235337   -0.900431   -0.977736   \n",
       "3     -0.839448 -2.296825  0.795336  1.018878   -1.037567   -0.984927   \n",
       "4     -0.873338 -2.157968  0.927547 -1.538476   -0.436850   -0.984341   \n",
       "\n",
       "   Large Bags  XLarge Bags      type    region      Year     Month  \\\n",
       "0   -0.678839     0.387816 -0.300023 -0.110142 -0.054082  0.000002   \n",
       "1   -0.644002     0.408073 -0.294996 -0.109340 -0.080666  0.000002   \n",
       "2   -0.631105     0.321327 -0.323475 -0.158940  0.013937  0.000003   \n",
       "3   -0.587172     0.382197 -0.301600 -0.131582 -0.042122  0.000003   \n",
       "4   -0.687833     0.452986 -0.294913 -0.119204 -0.060293  0.000002   \n",
       "\n",
       "          Dates  \n",
       "0  5.485647e-09  \n",
       "1  5.194611e-09  \n",
       "2  4.415637e-09  \n",
       "3  4.392087e-09  \n",
       "4  5.014374e-09  "
      ]
     },
     "execution_count": 36,
     "metadata": {},
     "output_type": "execute_result"
    }
   ],
   "source": [
    "pca=PCA(n_components=13, svd_solver='full')\n",
    "x=pd.DataFrame(pca.fit_transform(x),columns=x.columns)\n",
    "x.head(5)"
   ]
  },
  {
   "cell_type": "markdown",
   "id": "c45360de",
   "metadata": {},
   "source": [
    "### Power Transformer"
   ]
  },
  {
   "cell_type": "code",
   "execution_count": 37,
   "id": "defc4474",
   "metadata": {},
   "outputs": [
    {
     "data": {
      "text/html": [
       "<div>\n",
       "<style scoped>\n",
       "    .dataframe tbody tr th:only-of-type {\n",
       "        vertical-align: middle;\n",
       "    }\n",
       "\n",
       "    .dataframe tbody tr th {\n",
       "        vertical-align: top;\n",
       "    }\n",
       "\n",
       "    .dataframe thead th {\n",
       "        text-align: right;\n",
       "    }\n",
       "</style>\n",
       "<table border=\"1\" class=\"dataframe\">\n",
       "  <thead>\n",
       "    <tr style=\"text-align: right;\">\n",
       "      <th></th>\n",
       "      <th>Total Volume</th>\n",
       "      <th>4046</th>\n",
       "      <th>4225</th>\n",
       "      <th>4770</th>\n",
       "      <th>Total Bags</th>\n",
       "      <th>Small Bags</th>\n",
       "      <th>Large Bags</th>\n",
       "      <th>XLarge Bags</th>\n",
       "      <th>type</th>\n",
       "      <th>region</th>\n",
       "      <th>Year</th>\n",
       "      <th>Month</th>\n",
       "      <th>Dates</th>\n",
       "    </tr>\n",
       "  </thead>\n",
       "  <tbody>\n",
       "    <tr>\n",
       "      <th>0</th>\n",
       "      <td>-0.235419</td>\n",
       "      <td>-2.301793</td>\n",
       "      <td>0.795838</td>\n",
       "      <td>-1.341836</td>\n",
       "      <td>-0.710962</td>\n",
       "      <td>-1.097206</td>\n",
       "      <td>-0.806069</td>\n",
       "      <td>0.527120</td>\n",
       "      <td>-0.444496</td>\n",
       "      <td>-0.169164</td>\n",
       "      <td>-0.134172</td>\n",
       "      <td>0.582185</td>\n",
       "      <td>0.027094</td>\n",
       "    </tr>\n",
       "    <tr>\n",
       "      <th>1</th>\n",
       "      <td>-0.251318</td>\n",
       "      <td>-2.289006</td>\n",
       "      <td>0.778804</td>\n",
       "      <td>-0.559396</td>\n",
       "      <td>-0.849547</td>\n",
       "      <td>-1.098011</td>\n",
       "      <td>-0.761633</td>\n",
       "      <td>0.554980</td>\n",
       "      <td>-0.436004</td>\n",
       "      <td>-0.167897</td>\n",
       "      <td>-0.197567</td>\n",
       "      <td>0.570313</td>\n",
       "      <td>0.025402</td>\n",
       "    </tr>\n",
       "    <tr>\n",
       "      <th>2</th>\n",
       "      <td>-0.123364</td>\n",
       "      <td>-2.302739</td>\n",
       "      <td>0.767712</td>\n",
       "      <td>0.233356</td>\n",
       "      <td>-0.951829</td>\n",
       "      <td>-1.090873</td>\n",
       "      <td>-0.745213</td>\n",
       "      <td>0.435731</td>\n",
       "      <td>-0.484222</td>\n",
       "      <td>-0.246223</td>\n",
       "      <td>0.028292</td>\n",
       "      <td>0.658038</td>\n",
       "      <td>0.020876</td>\n",
       "    </tr>\n",
       "    <tr>\n",
       "      <th>3</th>\n",
       "      <td>-0.212333</td>\n",
       "      <td>-2.282140</td>\n",
       "      <td>0.748949</td>\n",
       "      <td>1.017501</td>\n",
       "      <td>-1.102720</td>\n",
       "      <td>-1.097901</td>\n",
       "      <td>-0.689403</td>\n",
       "      <td>0.519393</td>\n",
       "      <td>-0.447163</td>\n",
       "      <td>-0.203010</td>\n",
       "      <td>-0.105632</td>\n",
       "      <td>0.631066</td>\n",
       "      <td>0.020740</td>\n",
       "    </tr>\n",
       "    <tr>\n",
       "      <th>4</th>\n",
       "      <td>-0.268583</td>\n",
       "      <td>-2.130279</td>\n",
       "      <td>0.873416</td>\n",
       "      <td>-1.533969</td>\n",
       "      <td>-0.446825</td>\n",
       "      <td>-1.097329</td>\n",
       "      <td>-0.817559</td>\n",
       "      <td>0.616775</td>\n",
       "      <td>-0.435863</td>\n",
       "      <td>-0.183467</td>\n",
       "      <td>-0.148989</td>\n",
       "      <td>0.611334</td>\n",
       "      <td>0.024355</td>\n",
       "    </tr>\n",
       "  </tbody>\n",
       "</table>\n",
       "</div>"
      ],
      "text/plain": [
       "   Total Volume      4046      4225      4770  Total Bags  Small Bags  \\\n",
       "0     -0.235419 -2.301793  0.795838 -1.341836   -0.710962   -1.097206   \n",
       "1     -0.251318 -2.289006  0.778804 -0.559396   -0.849547   -1.098011   \n",
       "2     -0.123364 -2.302739  0.767712  0.233356   -0.951829   -1.090873   \n",
       "3     -0.212333 -2.282140  0.748949  1.017501   -1.102720   -1.097901   \n",
       "4     -0.268583 -2.130279  0.873416 -1.533969   -0.446825   -1.097329   \n",
       "\n",
       "   Large Bags  XLarge Bags      type    region      Year     Month     Dates  \n",
       "0   -0.806069     0.527120 -0.444496 -0.169164 -0.134172  0.582185  0.027094  \n",
       "1   -0.761633     0.554980 -0.436004 -0.167897 -0.197567  0.570313  0.025402  \n",
       "2   -0.745213     0.435731 -0.484222 -0.246223  0.028292  0.658038  0.020876  \n",
       "3   -0.689403     0.519393 -0.447163 -0.203010 -0.105632  0.631066  0.020740  \n",
       "4   -0.817559     0.616775 -0.435863 -0.183467 -0.148989  0.611334  0.024355  "
      ]
     },
     "execution_count": 37,
     "metadata": {},
     "output_type": "execute_result"
    }
   ],
   "source": [
    "from sklearn.preprocessing import PowerTransformer\n",
    "p=PowerTransformer(method='yeo-johnson')\n",
    "x=pd.DataFrame(p.fit_transform(x),columns=x.columns)\n",
    "x.head(5)"
   ]
  },
  {
   "cell_type": "markdown",
   "id": "6bbf3483",
   "metadata": {},
   "source": [
    "### Variance inflation factor"
   ]
  },
  {
   "cell_type": "code",
   "execution_count": 38,
   "id": "7a373ffa",
   "metadata": {},
   "outputs": [
    {
     "data": {
      "text/html": [
       "<div>\n",
       "<style scoped>\n",
       "    .dataframe tbody tr th:only-of-type {\n",
       "        vertical-align: middle;\n",
       "    }\n",
       "\n",
       "    .dataframe tbody tr th {\n",
       "        vertical-align: top;\n",
       "    }\n",
       "\n",
       "    .dataframe thead th {\n",
       "        text-align: right;\n",
       "    }\n",
       "</style>\n",
       "<table border=\"1\" class=\"dataframe\">\n",
       "  <thead>\n",
       "    <tr style=\"text-align: right;\">\n",
       "      <th></th>\n",
       "      <th>features</th>\n",
       "      <th>vif_features</th>\n",
       "    </tr>\n",
       "  </thead>\n",
       "  <tbody>\n",
       "    <tr>\n",
       "      <th>0</th>\n",
       "      <td>Total Volume</td>\n",
       "      <td>1.495254</td>\n",
       "    </tr>\n",
       "    <tr>\n",
       "      <th>1</th>\n",
       "      <td>4046</td>\n",
       "      <td>1.154974</td>\n",
       "    </tr>\n",
       "    <tr>\n",
       "      <th>2</th>\n",
       "      <td>4225</td>\n",
       "      <td>1.044442</td>\n",
       "    </tr>\n",
       "    <tr>\n",
       "      <th>3</th>\n",
       "      <td>4770</td>\n",
       "      <td>1.005827</td>\n",
       "    </tr>\n",
       "    <tr>\n",
       "      <th>4</th>\n",
       "      <td>Total Bags</td>\n",
       "      <td>1.112008</td>\n",
       "    </tr>\n",
       "    <tr>\n",
       "      <th>5</th>\n",
       "      <td>Small Bags</td>\n",
       "      <td>1.627763</td>\n",
       "    </tr>\n",
       "    <tr>\n",
       "      <th>6</th>\n",
       "      <td>Large Bags</td>\n",
       "      <td>1.102891</td>\n",
       "    </tr>\n",
       "    <tr>\n",
       "      <th>7</th>\n",
       "      <td>XLarge Bags</td>\n",
       "      <td>1.032273</td>\n",
       "    </tr>\n",
       "    <tr>\n",
       "      <th>8</th>\n",
       "      <td>type</td>\n",
       "      <td>1.006446</td>\n",
       "    </tr>\n",
       "    <tr>\n",
       "      <th>9</th>\n",
       "      <td>region</td>\n",
       "      <td>1.074128</td>\n",
       "    </tr>\n",
       "    <tr>\n",
       "      <th>10</th>\n",
       "      <td>Year</td>\n",
       "      <td>1.435065</td>\n",
       "    </tr>\n",
       "    <tr>\n",
       "      <th>11</th>\n",
       "      <td>Month</td>\n",
       "      <td>2.050695</td>\n",
       "    </tr>\n",
       "    <tr>\n",
       "      <th>12</th>\n",
       "      <td>Dates</td>\n",
       "      <td>1.000238</td>\n",
       "    </tr>\n",
       "  </tbody>\n",
       "</table>\n",
       "</div>"
      ],
      "text/plain": [
       "        features  vif_features\n",
       "0   Total Volume      1.495254\n",
       "1           4046      1.154974\n",
       "2           4225      1.044442\n",
       "3           4770      1.005827\n",
       "4     Total Bags      1.112008\n",
       "5     Small Bags      1.627763\n",
       "6     Large Bags      1.102891\n",
       "7    XLarge Bags      1.032273\n",
       "8           type      1.006446\n",
       "9         region      1.074128\n",
       "10          Year      1.435065\n",
       "11         Month      2.050695\n",
       "12         Dates      1.000238"
      ]
     },
     "execution_count": 38,
     "metadata": {},
     "output_type": "execute_result"
    }
   ],
   "source": [
    "vif=pd.DataFrame()\n",
    "vif['features']=x.columns\n",
    "vif['vif_features']=[variance_inflation_factor(x.values,i) for i in range(x.shape[1])]\n",
    "\n",
    "vif"
   ]
  },
  {
   "cell_type": "code",
   "execution_count": 39,
   "id": "7fe79264",
   "metadata": {},
   "outputs": [
    {
     "data": {
      "text/plain": [
       "Total Volume    0.428298\n",
       "4046           -0.019177\n",
       "4225           -0.017816\n",
       "4770           -0.000329\n",
       "Total Bags      0.009155\n",
       "Small Bags      0.054890\n",
       "Large Bags     -0.083745\n",
       "XLarge Bags     0.074895\n",
       "type           -0.449883\n",
       "region          0.054683\n",
       "Year            0.090623\n",
       "Month          -1.584583\n",
       "Dates           0.765469\n",
       "dtype: float64"
      ]
     },
     "execution_count": 39,
     "metadata": {},
     "output_type": "execute_result"
    }
   ],
   "source": [
    "x.skew()"
   ]
  },
  {
   "cell_type": "code",
   "execution_count": 40,
   "id": "0a79175a",
   "metadata": {},
   "outputs": [
    {
     "data": {
      "image/png": "[encoded data removed]",
      "text/plain": [
       "<Figure size 1152x1296 with 13 Axes>"
      ]
     },
     "metadata": {
      "needs_background": "light"
     },
     "output_type": "display_data"
    }
   ],
   "source": [
    "# Distribution plot after removal of outlier to see skewness in columns\n",
    "pltnum=1 \n",
    "plt.figure(figsize=(16,18))\n",
    "for col in x:\n",
    "    if pltnum<17:\n",
    "        ax=plt.subplot(5,4,pltnum)\n",
    "        sns.distplot(x[col],color='blue')\n",
    "        pltnum+=1\n",
    "    \n",
    "plt.show()"
   ]
  },
  {
   "cell_type": "code",
   "execution_count": 41,
   "id": "04bdcef7",
   "metadata": {},
   "outputs": [
    {
     "data": {
      "text/html": [
       "<div>\n",
       "<style scoped>\n",
       "    .dataframe tbody tr th:only-of-type {\n",
       "        vertical-align: middle;\n",
       "    }\n",
       "\n",
       "    .dataframe tbody tr th {\n",
       "        vertical-align: top;\n",
       "    }\n",
       "\n",
       "    .dataframe thead th {\n",
       "        text-align: right;\n",
       "    }\n",
       "</style>\n",
       "<table border=\"1\" class=\"dataframe\">\n",
       "  <thead>\n",
       "    <tr style=\"text-align: right;\">\n",
       "      <th></th>\n",
       "      <th>AveragePrice</th>\n",
       "      <th>Total Volume</th>\n",
       "      <th>4046</th>\n",
       "      <th>4225</th>\n",
       "      <th>4770</th>\n",
       "      <th>Total Bags</th>\n",
       "      <th>Small Bags</th>\n",
       "      <th>Large Bags</th>\n",
       "      <th>XLarge Bags</th>\n",
       "      <th>type</th>\n",
       "      <th>region</th>\n",
       "      <th>Year</th>\n",
       "      <th>Month</th>\n",
       "    </tr>\n",
       "  </thead>\n",
       "  <tbody>\n",
       "    <tr>\n",
       "      <th>0</th>\n",
       "      <td>1.33</td>\n",
       "      <td>64236.62</td>\n",
       "      <td>1036.74</td>\n",
       "      <td>54454.85</td>\n",
       "      <td>48.16</td>\n",
       "      <td>8696.87</td>\n",
       "      <td>8603.62</td>\n",
       "      <td>93.25</td>\n",
       "      <td>0.0</td>\n",
       "      <td>0.0</td>\n",
       "      <td>0.0</td>\n",
       "      <td>2015</td>\n",
       "      <td>12</td>\n",
       "    </tr>\n",
       "    <tr>\n",
       "      <th>1</th>\n",
       "      <td>1.35</td>\n",
       "      <td>54876.98</td>\n",
       "      <td>674.28</td>\n",
       "      <td>44638.81</td>\n",
       "      <td>58.33</td>\n",
       "      <td>9505.56</td>\n",
       "      <td>9408.07</td>\n",
       "      <td>97.49</td>\n",
       "      <td>0.0</td>\n",
       "      <td>0.0</td>\n",
       "      <td>0.0</td>\n",
       "      <td>2015</td>\n",
       "      <td>12</td>\n",
       "    </tr>\n",
       "    <tr>\n",
       "      <th>2</th>\n",
       "      <td>0.93</td>\n",
       "      <td>118220.22</td>\n",
       "      <td>794.70</td>\n",
       "      <td>109149.67</td>\n",
       "      <td>130.50</td>\n",
       "      <td>8145.35</td>\n",
       "      <td>8042.21</td>\n",
       "      <td>103.14</td>\n",
       "      <td>0.0</td>\n",
       "      <td>0.0</td>\n",
       "      <td>0.0</td>\n",
       "      <td>2015</td>\n",
       "      <td>12</td>\n",
       "    </tr>\n",
       "    <tr>\n",
       "      <th>3</th>\n",
       "      <td>1.08</td>\n",
       "      <td>78992.15</td>\n",
       "      <td>1132.00</td>\n",
       "      <td>71976.41</td>\n",
       "      <td>72.58</td>\n",
       "      <td>5811.16</td>\n",
       "      <td>5677.40</td>\n",
       "      <td>133.76</td>\n",
       "      <td>0.0</td>\n",
       "      <td>0.0</td>\n",
       "      <td>0.0</td>\n",
       "      <td>2015</td>\n",
       "      <td>12</td>\n",
       "    </tr>\n",
       "    <tr>\n",
       "      <th>4</th>\n",
       "      <td>1.28</td>\n",
       "      <td>51039.60</td>\n",
       "      <td>941.48</td>\n",
       "      <td>43838.39</td>\n",
       "      <td>75.78</td>\n",
       "      <td>6183.95</td>\n",
       "      <td>5986.26</td>\n",
       "      <td>197.69</td>\n",
       "      <td>0.0</td>\n",
       "      <td>0.0</td>\n",
       "      <td>0.0</td>\n",
       "      <td>2015</td>\n",
       "      <td>11</td>\n",
       "    </tr>\n",
       "  </tbody>\n",
       "</table>\n",
       "</div>"
      ],
      "text/plain": [
       "   AveragePrice  Total Volume     4046       4225    4770  Total Bags  \\\n",
       "0          1.33      64236.62  1036.74   54454.85   48.16     8696.87   \n",
       "1          1.35      54876.98   674.28   44638.81   58.33     9505.56   \n",
       "2          0.93     118220.22   794.70  109149.67  130.50     8145.35   \n",
       "3          1.08      78992.15  1132.00   71976.41   72.58     5811.16   \n",
       "4          1.28      51039.60   941.48   43838.39   75.78     6183.95   \n",
       "\n",
       "   Small Bags  Large Bags  XLarge Bags  type  region  Year  Month  \n",
       "0     8603.62       93.25          0.0   0.0     0.0  2015     12  \n",
       "1     9408.07       97.49          0.0   0.0     0.0  2015     12  \n",
       "2     8042.21      103.14          0.0   0.0     0.0  2015     12  \n",
       "3     5677.40      133.76          0.0   0.0     0.0  2015     12  \n",
       "4     5986.26      197.69          0.0   0.0     0.0  2015     11  "
      ]
     },
     "execution_count": 41,
     "metadata": {},
     "output_type": "execute_result"
    }
   ],
   "source": [
    "df_new=df.drop('Dates',axis=1)\n",
    "df_new.head()"
   ]
  },
  {
   "cell_type": "code",
   "execution_count": 42,
   "id": "0a82a42d",
   "metadata": {},
   "outputs": [
    {
     "name": "stdout",
     "output_type": "stream",
     "text": [
      "Best r2 score is 0.48313741247372044 on random state 6\n"
     ]
    }
   ],
   "source": [
    "#linear Regression\n",
    "max_acc=0\n",
    "max_RS=0\n",
    "for i in range(0,250):\n",
    "    x_train,x_test,y_train, y_test= train_test_split(x,y,test_size=0.25,random_state=i)\n",
    "    lr=LinearRegression()\n",
    "    lr.fit(x_train,y_train)\n",
    "    pred=lr.predict(x_test)\n",
    "    acc=r2_score(y_test,pred)\n",
    "    if acc>max_acc:\n",
    "        max_acc=acc\n",
    "        max_RS=i\n",
    "print( 'Best r2 score is', max_acc ,'on random state', max_RS)"
   ]
  },
  {
   "cell_type": "markdown",
   "id": "37e1dcaf",
   "metadata": {},
   "source": [
    "## creating training and testing dataset"
   ]
  },
  {
   "cell_type": "code",
   "execution_count": 43,
   "id": "a38dc304",
   "metadata": {},
   "outputs": [],
   "source": [
    "x_train,x_test,y_train,y_test=train_test_split(x,y,test_size=0.25,random_state=6)"
   ]
  },
  {
   "cell_type": "markdown",
   "id": "065c4513",
   "metadata": {},
   "source": [
    "# Machine Learning model with regression and evaluation metrics"
   ]
  },
  {
   "cell_type": "code",
   "execution_count": 44,
   "id": "e945b449",
   "metadata": {},
   "outputs": [],
   "source": [
    "def reg(model,x,y):\n",
    "    x_train,x_test,y_train,y_test=train_test_split(x,y,test_size=0.25,random_state=6)\n",
    "    \n",
    "    model.fit(x_train,y_train) #trainnng the model\n",
    "    \n",
    "    pred=model.predict(x_test) \n",
    "    \n",
    "    rmse=mean_squared_error(y_test,pred,squared=False)  # findthe root mean squared error value\n",
    "    print('RMSE is:',rmse)\n",
    "    \n",
    "    r2=r2_score(y_test,pred)*100 # finding r2 score value\n",
    "    print('r2 score is:',r2)\n",
    "\n",
    "    cvs=(cross_val_score(model,x,y,cv=5).mean())*100 # cross validation score\n",
    "    print('Cross validation score is:', cvs)\n",
    "    \n",
    "    result=r2-cvs\n",
    "    print('R2 score -Cross validation score is:', result)\n",
    "    "
   ]
  },
  {
   "cell_type": "code",
   "execution_count": 45,
   "id": "cefd4086",
   "metadata": {},
   "outputs": [
    {
     "name": "stdout",
     "output_type": "stream",
     "text": [
      "RMSE is: 0.2803833227307343\n",
      "r2 score is: 48.31374124737204\n",
      "Cross validation score is: 10.437075557350111\n",
      "R2 score -Cross validation score is: 37.87666569002193\n"
     ]
    }
   ],
   "source": [
    "model=LinearRegression()\n",
    "reg(model,x,y)"
   ]
  },
  {
   "cell_type": "code",
   "execution_count": 46,
   "id": "1158a50e",
   "metadata": {},
   "outputs": [
    {
     "name": "stdout",
     "output_type": "stream",
     "text": [
      "RMSE is: 0.3900323822459629\n",
      "r2 score is: -0.01659666075202182\n",
      "Cross validation score is: -115.6669674837169\n",
      "R2 score -Cross validation score is: 115.65037082296487\n"
     ]
    }
   ],
   "source": [
    "#Lasso Regressor\n",
    "from sklearn.linear_model import Lasso, Ridge\n",
    "model=Lasso()\n",
    "reg(model,x,y)"
   ]
  },
  {
   "cell_type": "code",
   "execution_count": 47,
   "id": "0a933b95",
   "metadata": {},
   "outputs": [
    {
     "name": "stdout",
     "output_type": "stream",
     "text": [
      "RMSE is: 0.28048346757957154\n",
      "r2 score is: 48.27681296719829\n",
      "Cross validation score is: 10.504322436965785\n",
      "R2 score -Cross validation score is: 37.7724905302325\n"
     ]
    }
   ],
   "source": [
    "#Ridge Regressor\n",
    "model=Ridge(alpha=0.01,normalize=True)\n",
    "reg(model,x,y)"
   ]
  },
  {
   "cell_type": "code",
   "execution_count": 48,
   "id": "6109c53a",
   "metadata": {},
   "outputs": [
    {
     "name": "stdout",
     "output_type": "stream",
     "text": [
      "RMSE is: 0.22558676242052675\n",
      "r2 score is: 66.54215507282231\n",
      "Cross validation score is: -0.4255450510415204\n",
      "R2 score -Cross validation score is: 66.96770012386384\n"
     ]
    }
   ],
   "source": [
    "#Suport Vector Regressor\n",
    "from sklearn.svm import SVR\n",
    "model=SVR()\n",
    "reg(model,x,y)"
   ]
  },
  {
   "cell_type": "code",
   "execution_count": 49,
   "id": "4aa8aa55",
   "metadata": {},
   "outputs": [
    {
     "name": "stdout",
     "output_type": "stream",
     "text": [
      "RMSE is: 0.3034283178841974\n",
      "r2 score is: 39.46828757096347\n",
      "Cross validation score is: -13.537231434887861\n",
      "R2 score -Cross validation score is: 53.005519005851326\n"
     ]
    }
   ],
   "source": [
    "#Random Forest Regressor\n",
    "from sklearn.ensemble import RandomForestRegressor\n",
    "model=RandomForestRegressor(max_depth=2, max_features='sqrt')\n",
    "reg(model,x,y)"
   ]
  },
  {
   "cell_type": "code",
   "execution_count": 50,
   "id": "dfab66bd",
   "metadata": {},
   "outputs": [
    {
     "name": "stdout",
     "output_type": "stream",
     "text": [
      "RMSE is: 0.27258485644942987\n",
      "r2 score is: 51.148917615224974\n",
      "Cross validation score is: -9.177690008653009\n",
      "R2 score -Cross validation score is: 60.32660762387798\n"
     ]
    }
   ],
   "source": [
    "#KNeighbors Regressor\n",
    "from sklearn.neighbors import KNeighborsRegressor\n",
    "model=KNeighborsRegressor(n_neighbors=2, algorithm='kd_tree')\n",
    "reg(model,x,y)"
   ]
  },
  {
   "cell_type": "code",
   "execution_count": 51,
   "id": "789e8dc9",
   "metadata": {},
   "outputs": [
    {
     "name": "stdout",
     "output_type": "stream",
     "text": [
      "RMSE is: 0.33326499412764554\n",
      "r2 score is: 26.978602982616117\n",
      "Cross validation score is: -182.76123792890496\n",
      "R2 score -Cross validation score is: 209.73984091152107\n"
     ]
    }
   ],
   "source": [
    "#Decision Tree Regressor\n",
    "from sklearn.tree import DecisionTreeRegressor\n",
    "model=DecisionTreeRegressor(criterion='poisson')\n",
    "reg(model,x,y)"
   ]
  },
  {
   "cell_type": "code",
   "execution_count": 52,
   "id": "42cfae17",
   "metadata": {},
   "outputs": [
    {
     "name": "stdout",
     "output_type": "stream",
     "text": [
      "RMSE is: 0.3914182412085005\n",
      "r2 score is: -0.7286152266118728\n",
      "Cross validation score is: -92.94536586142513\n",
      "R2 score -Cross validation score is: 92.21675063481325\n"
     ]
    }
   ],
   "source": [
    "# Gradient Boosting Regressor\n",
    "from sklearn.ensemble import GradientBoostingRegressor\n",
    "model=GradientBoostingRegressor(loss='quantile',n_estimators=200,max_depth=5)\n",
    "reg(model,x,y)"
   ]
  },
  {
   "cell_type": "code",
   "execution_count": 53,
   "id": "09bae0f1",
   "metadata": {},
   "outputs": [
    {
     "name": "stdout",
     "output_type": "stream",
     "text": [
      "RMSE is: 0.2781785090785906\n",
      "r2 score is: 49.12342213192633\n",
      "Cross validation score is: -2.2365542235417\n",
      "R2 score -Cross validation score is: 51.359976355468035\n"
     ]
    }
   ],
   "source": [
    "#AdaBoost Regressor\n",
    "from sklearn.ensemble import AdaBoostRegressor\n",
    "model=AdaBoostRegressor(n_estimators=200,learning_rate=1.05)\n",
    "reg(model,x,y)"
   ]
  },
  {
   "cell_type": "code",
   "execution_count": 54,
   "id": "79269173",
   "metadata": {},
   "outputs": [
    {
     "name": "stdout",
     "output_type": "stream",
     "text": [
      "RMSE is: 0.19212079764384435\n",
      "r2 score is: 75.73280928141051\n",
      "Cross validation score is: -5.088323196226399\n",
      "R2 score -Cross validation score is: 80.82113247763691\n"
     ]
    }
   ],
   "source": [
    "# XGB Regressor\n",
    "from xgboost import XGBRegressor\n",
    "model=XGBRegressor()\n",
    "reg(model,x,y)"
   ]
  },
  {
   "cell_type": "markdown",
   "id": "a4d87fa8",
   "metadata": {},
   "source": [
    "## Hypertunning Parameter for selected model"
   ]
  },
  {
   "cell_type": "code",
   "execution_count": 84,
   "id": "b1b49a28",
   "metadata": {},
   "outputs": [],
   "source": [
    "from sklearn.model_selection import GridSearchCV\n",
    "param={'n_estimators':[200,400,600],'gamma':[2.0,3.0,4.0],'n_jobs':[-2,1,1],'max_depth':[4,6,8]}\n",
    "grid_CV=GridSearchCV(XGBRegressor(),param,cv=5)"
   ]
  },
  {
   "cell_type": "code",
   "execution_count": null,
   "id": "561cd41a",
   "metadata": {},
   "outputs": [],
   "source": [
    "grid_CV.fit(x_train,y_train)"
   ]
  },
  {
   "cell_type": "code",
   "execution_count": null,
   "id": "9bd504f6",
   "metadata": {},
   "outputs": [],
   "source": [
    "grid_CV.best_params_"
   ]
  },
  {
   "cell_type": "code",
   "execution_count": 236,
   "id": "f467a355",
   "metadata": {},
   "outputs": [
    {
     "name": "stdout",
     "output_type": "stream",
     "text": [
      "R2 score for the Best Model is: 65.08897177106078\n"
     ]
    }
   ],
   "source": [
    "Best_Model = XGBRegressor(gamma=2.0, max_depth=8, n_estimators=100, n_jobs=-2)\n",
    "Best_Model.fit(x_train,y_train)\n",
    "grid_pred=Best_Model.predict(x_test)\n",
    "grid_r2 = r2_score(y_test,grid_pred)*100\n",
    "print(\"R2 score for the Best Model is:\", grid_r2)"
   ]
  },
  {
   "cell_type": "markdown",
   "id": "d02d26db",
   "metadata": {},
   "source": [
    "we successfully incorporated the Hypert uning parameter on Best Model and received the r2 score for it."
   ]
  },
  {
   "cell_type": "code",
   "execution_count": null,
   "id": "6b817a84",
   "metadata": {},
   "outputs": [],
   "source": []
  },
  {
   "cell_type": "markdown",
   "id": "1c32980c",
   "metadata": {},
   "source": [
    "# Using classification model for region column as target variable"
   ]
  },
  {
   "cell_type": "code",
   "execution_count": 55,
   "id": "e57ed5bb",
   "metadata": {},
   "outputs": [],
   "source": [
    "from sklearn.preprocessing import LabelEncoder, StandardScaler\n",
    "from sklearn.model_selection import train_test_split, GridSearchCV\n",
    "from sklearn.linear_model import LogisticRegression\n",
    "from sklearn.tree import DecisionTreeClassifier\n",
    "from sklearn.ensemble import RandomForestClassifier\n",
    "from sklearn.neighbors import KNeighborsClassifier\n",
    "from sklearn.svm import SVC\n",
    "import xgboost as xgb\n",
    "from sklearn.metrics import classification_report\n",
    "from sklearn import metrics\n",
    "\n",
    "from sklearn.metrics import accuracy_score\n",
    "from sklearn.model_selection import cross_val_score\n",
    "from sklearn.model_selection import GridSearchCV"
   ]
  },
  {
   "cell_type": "code",
   "execution_count": 56,
   "id": "4c8c387d",
   "metadata": {},
   "outputs": [
    {
     "data": {
      "text/html": [
       "<div>\n",
       "<style scoped>\n",
       "    .dataframe tbody tr th:only-of-type {\n",
       "        vertical-align: middle;\n",
       "    }\n",
       "\n",
       "    .dataframe tbody tr th {\n",
       "        vertical-align: top;\n",
       "    }\n",
       "\n",
       "    .dataframe thead th {\n",
       "        text-align: right;\n",
       "    }\n",
       "</style>\n",
       "<table border=\"1\" class=\"dataframe\">\n",
       "  <thead>\n",
       "    <tr style=\"text-align: right;\">\n",
       "      <th></th>\n",
       "      <th>Unnamed: 0</th>\n",
       "      <th>Date</th>\n",
       "      <th>AveragePrice</th>\n",
       "      <th>Total Volume</th>\n",
       "      <th>4046</th>\n",
       "      <th>4225</th>\n",
       "      <th>4770</th>\n",
       "      <th>Total Bags</th>\n",
       "      <th>Small Bags</th>\n",
       "      <th>Large Bags</th>\n",
       "      <th>XLarge Bags</th>\n",
       "      <th>type</th>\n",
       "      <th>year</th>\n",
       "      <th>region</th>\n",
       "    </tr>\n",
       "  </thead>\n",
       "  <tbody>\n",
       "    <tr>\n",
       "      <th>0</th>\n",
       "      <td>0</td>\n",
       "      <td>2015-12-27</td>\n",
       "      <td>1.33</td>\n",
       "      <td>64236.62</td>\n",
       "      <td>1036.74</td>\n",
       "      <td>54454.85</td>\n",
       "      <td>48.16</td>\n",
       "      <td>8696.87</td>\n",
       "      <td>8603.62</td>\n",
       "      <td>93.25</td>\n",
       "      <td>0.0</td>\n",
       "      <td>conventional</td>\n",
       "      <td>2015</td>\n",
       "      <td>Albany</td>\n",
       "    </tr>\n",
       "    <tr>\n",
       "      <th>1</th>\n",
       "      <td>1</td>\n",
       "      <td>2015-12-20</td>\n",
       "      <td>1.35</td>\n",
       "      <td>54876.98</td>\n",
       "      <td>674.28</td>\n",
       "      <td>44638.81</td>\n",
       "      <td>58.33</td>\n",
       "      <td>9505.56</td>\n",
       "      <td>9408.07</td>\n",
       "      <td>97.49</td>\n",
       "      <td>0.0</td>\n",
       "      <td>conventional</td>\n",
       "      <td>2015</td>\n",
       "      <td>Albany</td>\n",
       "    </tr>\n",
       "    <tr>\n",
       "      <th>2</th>\n",
       "      <td>2</td>\n",
       "      <td>2015-12-13</td>\n",
       "      <td>0.93</td>\n",
       "      <td>118220.22</td>\n",
       "      <td>794.70</td>\n",
       "      <td>109149.67</td>\n",
       "      <td>130.50</td>\n",
       "      <td>8145.35</td>\n",
       "      <td>8042.21</td>\n",
       "      <td>103.14</td>\n",
       "      <td>0.0</td>\n",
       "      <td>conventional</td>\n",
       "      <td>2015</td>\n",
       "      <td>Albany</td>\n",
       "    </tr>\n",
       "    <tr>\n",
       "      <th>3</th>\n",
       "      <td>3</td>\n",
       "      <td>2015-12-06</td>\n",
       "      <td>1.08</td>\n",
       "      <td>78992.15</td>\n",
       "      <td>1132.00</td>\n",
       "      <td>71976.41</td>\n",
       "      <td>72.58</td>\n",
       "      <td>5811.16</td>\n",
       "      <td>5677.40</td>\n",
       "      <td>133.76</td>\n",
       "      <td>0.0</td>\n",
       "      <td>conventional</td>\n",
       "      <td>2015</td>\n",
       "      <td>Albany</td>\n",
       "    </tr>\n",
       "    <tr>\n",
       "      <th>4</th>\n",
       "      <td>4</td>\n",
       "      <td>2015-11-29</td>\n",
       "      <td>1.28</td>\n",
       "      <td>51039.60</td>\n",
       "      <td>941.48</td>\n",
       "      <td>43838.39</td>\n",
       "      <td>75.78</td>\n",
       "      <td>6183.95</td>\n",
       "      <td>5986.26</td>\n",
       "      <td>197.69</td>\n",
       "      <td>0.0</td>\n",
       "      <td>conventional</td>\n",
       "      <td>2015</td>\n",
       "      <td>Albany</td>\n",
       "    </tr>\n",
       "  </tbody>\n",
       "</table>\n",
       "</div>"
      ],
      "text/plain": [
       "   Unnamed: 0        Date  AveragePrice  Total Volume     4046       4225  \\\n",
       "0           0  2015-12-27          1.33      64236.62  1036.74   54454.85   \n",
       "1           1  2015-12-20          1.35      54876.98   674.28   44638.81   \n",
       "2           2  2015-12-13          0.93     118220.22   794.70  109149.67   \n",
       "3           3  2015-12-06          1.08      78992.15  1132.00   71976.41   \n",
       "4           4  2015-11-29          1.28      51039.60   941.48   43838.39   \n",
       "\n",
       "     4770  Total Bags  Small Bags  Large Bags  XLarge Bags          type  \\\n",
       "0   48.16     8696.87     8603.62       93.25          0.0  conventional   \n",
       "1   58.33     9505.56     9408.07       97.49          0.0  conventional   \n",
       "2  130.50     8145.35     8042.21      103.14          0.0  conventional   \n",
       "3   72.58     5811.16     5677.40      133.76          0.0  conventional   \n",
       "4   75.78     6183.95     5986.26      197.69          0.0  conventional   \n",
       "\n",
       "   year  region  \n",
       "0  2015  Albany  \n",
       "1  2015  Albany  \n",
       "2  2015  Albany  \n",
       "3  2015  Albany  \n",
       "4  2015  Albany  "
      ]
     },
     "execution_count": 56,
     "metadata": {},
     "output_type": "execute_result"
    }
   ],
   "source": [
    "df1=pd.read_csv(r'C:\\Users\\Admin\\Desktop\\avocado.csv')\n",
    "df1.head()"
   ]
  },
  {
   "cell_type": "code",
   "execution_count": 57,
   "id": "cf964d18",
   "metadata": {},
   "outputs": [],
   "source": [
    "df1['Year'],df1['Month'],df1['Dates']=df1['Date'].str.split('-').str\n",
    "df1.drop(columns=['Date', 'year'],inplace=True)"
   ]
  },
  {
   "cell_type": "code",
   "execution_count": 58,
   "id": "5ed969f5",
   "metadata": {},
   "outputs": [],
   "source": [
    "df1['Year']=df1['Year'].astype(int)\n",
    "df1['Month']=df1['Month'].astype(int)\n",
    "df1['Dates']=df1['Dates'].astype(int)\n",
    "df1.drop(columns=['Dates'],inplace=True)"
   ]
  },
  {
   "cell_type": "code",
   "execution_count": 59,
   "id": "8fba278a",
   "metadata": {},
   "outputs": [],
   "source": [
    "df1.drop(['Unnamed: 0','4046', '4225', '4770','Small Bags','Large Bags','XLarge Bags'],axis=1,inplace=True)\n"
   ]
  },
  {
   "cell_type": "code",
   "execution_count": 60,
   "id": "32af3f1e",
   "metadata": {},
   "outputs": [
    {
     "data": {
      "text/html": [
       "<div>\n",
       "<style scoped>\n",
       "    .dataframe tbody tr th:only-of-type {\n",
       "        vertical-align: middle;\n",
       "    }\n",
       "\n",
       "    .dataframe tbody tr th {\n",
       "        vertical-align: top;\n",
       "    }\n",
       "\n",
       "    .dataframe thead th {\n",
       "        text-align: right;\n",
       "    }\n",
       "</style>\n",
       "<table border=\"1\" class=\"dataframe\">\n",
       "  <thead>\n",
       "    <tr style=\"text-align: right;\">\n",
       "      <th></th>\n",
       "      <th>AveragePrice</th>\n",
       "      <th>Total Volume</th>\n",
       "      <th>Total Bags</th>\n",
       "      <th>type</th>\n",
       "      <th>region</th>\n",
       "      <th>Year</th>\n",
       "      <th>Month</th>\n",
       "    </tr>\n",
       "  </thead>\n",
       "  <tbody>\n",
       "    <tr>\n",
       "      <th>0</th>\n",
       "      <td>1.33</td>\n",
       "      <td>64236.62</td>\n",
       "      <td>8696.87</td>\n",
       "      <td>conventional</td>\n",
       "      <td>Albany</td>\n",
       "      <td>2015</td>\n",
       "      <td>12</td>\n",
       "    </tr>\n",
       "    <tr>\n",
       "      <th>1</th>\n",
       "      <td>1.35</td>\n",
       "      <td>54876.98</td>\n",
       "      <td>9505.56</td>\n",
       "      <td>conventional</td>\n",
       "      <td>Albany</td>\n",
       "      <td>2015</td>\n",
       "      <td>12</td>\n",
       "    </tr>\n",
       "    <tr>\n",
       "      <th>2</th>\n",
       "      <td>0.93</td>\n",
       "      <td>118220.22</td>\n",
       "      <td>8145.35</td>\n",
       "      <td>conventional</td>\n",
       "      <td>Albany</td>\n",
       "      <td>2015</td>\n",
       "      <td>12</td>\n",
       "    </tr>\n",
       "    <tr>\n",
       "      <th>3</th>\n",
       "      <td>1.08</td>\n",
       "      <td>78992.15</td>\n",
       "      <td>5811.16</td>\n",
       "      <td>conventional</td>\n",
       "      <td>Albany</td>\n",
       "      <td>2015</td>\n",
       "      <td>12</td>\n",
       "    </tr>\n",
       "    <tr>\n",
       "      <th>4</th>\n",
       "      <td>1.28</td>\n",
       "      <td>51039.60</td>\n",
       "      <td>6183.95</td>\n",
       "      <td>conventional</td>\n",
       "      <td>Albany</td>\n",
       "      <td>2015</td>\n",
       "      <td>11</td>\n",
       "    </tr>\n",
       "  </tbody>\n",
       "</table>\n",
       "</div>"
      ],
      "text/plain": [
       "   AveragePrice  Total Volume  Total Bags          type  region  Year  Month\n",
       "0          1.33      64236.62     8696.87  conventional  Albany  2015     12\n",
       "1          1.35      54876.98     9505.56  conventional  Albany  2015     12\n",
       "2          0.93     118220.22     8145.35  conventional  Albany  2015     12\n",
       "3          1.08      78992.15     5811.16  conventional  Albany  2015     12\n",
       "4          1.28      51039.60     6183.95  conventional  Albany  2015     11"
      ]
     },
     "execution_count": 60,
     "metadata": {},
     "output_type": "execute_result"
    }
   ],
   "source": [
    "df1.head()"
   ]
  },
  {
   "cell_type": "code",
   "execution_count": 61,
   "id": "a7ee493c",
   "metadata": {},
   "outputs": [],
   "source": [
    "oe = OrdinalEncoder()\n",
    "df1['region']=oe.fit_transform(df1['region'].values.reshape(-1,1))\n",
    "df1['type']=oe.fit_transform(df1['type'].values.reshape(-1,1))"
   ]
  },
  {
   "cell_type": "code",
   "execution_count": 62,
   "id": "ce2daaf4",
   "metadata": {},
   "outputs": [
    {
     "data": {
      "image/png": "[encoded data removed]",
      "text/plain": [
       "<Figure size 864x504 with 6 Axes>"
      ]
     },
     "metadata": {
      "needs_background": "light"
     },
     "output_type": "display_data"
    }
   ],
   "source": [
    "# from boxplot we understand how data is divide and also find outlier in the dataset\n",
    "fig, ax = plt.subplots(ncols=6, nrows=1, figsize=(12,7))\n",
    "index = 0\n",
    "features = df1.drop(\"region\", axis=1)\n",
    "ax = ax.flatten()\n",
    "for col, value in features.items():\n",
    "    sns.boxplot(y=col, data=df1, ax=ax[index], palette=\"plasma\")\n",
    "    index += 1\n",
    "plt.tight_layout(pad=0.1, w_pad=0.5, h_pad=1.0)\n",
    "plt.show()"
   ]
  },
  {
   "cell_type": "code",
   "execution_count": 63,
   "id": "68ad3493",
   "metadata": {},
   "outputs": [],
   "source": [
    "z = np.abs(zscore(df1))\n",
    "threshold = 3\n",
    "np.where(z>3)\n",
    "df1_new = df1[(z<3).all(axis=1)]\n"
   ]
  },
  {
   "cell_type": "code",
   "execution_count": 64,
   "id": "50eb80fb",
   "metadata": {},
   "outputs": [
    {
     "name": "stdout",
     "output_type": "stream",
     "text": [
      "(18249, 7)\n",
      "(17931, 7)\n"
     ]
    }
   ],
   "source": [
    "print(df1.shape)\n",
    "print(df1_new.shape)"
   ]
  },
  {
   "cell_type": "code",
   "execution_count": 65,
   "id": "221f0c0f",
   "metadata": {},
   "outputs": [
    {
     "data": {
      "text/plain": [
       "AveragePrice    0.580303\n",
       "Total Volume    9.007687\n",
       "Total Bags      9.756072\n",
       "type            0.000329\n",
       "region          0.000030\n",
       "Year            0.215339\n",
       "Month           0.106617\n",
       "dtype: float64"
      ]
     },
     "execution_count": 65,
     "metadata": {},
     "output_type": "execute_result"
    }
   ],
   "source": [
    "df1.skew()"
   ]
  },
  {
   "cell_type": "code",
   "execution_count": 66,
   "id": "13fd3fdc",
   "metadata": {},
   "outputs": [],
   "source": [
    "x1=df1_new.drop('region',axis=1)\n",
    "y1=df1_new['region']"
   ]
  },
  {
   "cell_type": "code",
   "execution_count": 67,
   "id": "60181f77",
   "metadata": {},
   "outputs": [],
   "source": [
    "from sklearn.preprocessing import power_transform\n",
    "x1=power_transform(x1,method=\"yeo-johnson\")"
   ]
  },
  {
   "cell_type": "code",
   "execution_count": 68,
   "id": "adad6a99",
   "metadata": {},
   "outputs": [
    {
     "data": {
      "text/plain": [
       "AveragePrice    0.388855\n",
       "Total Volume    3.544630\n",
       "Total Bags      4.165621\n",
       "type           -0.005912\n",
       "region          0.014808\n",
       "Year            0.225227\n",
       "Month           0.114771\n",
       "dtype: float64"
      ]
     },
     "execution_count": 68,
     "metadata": {},
     "output_type": "execute_result"
    }
   ],
   "source": [
    "df1_new.skew()"
   ]
  },
  {
   "cell_type": "code",
   "execution_count": 69,
   "id": "86a3ff5e",
   "metadata": {},
   "outputs": [],
   "source": [
    "x1 = df1_new.drop('region',axis=1)\n",
    "y1 = df1_new['region']"
   ]
  },
  {
   "cell_type": "code",
   "execution_count": 70,
   "id": "8df09631",
   "metadata": {},
   "outputs": [
    {
     "data": {
      "text/html": [
       "<div>\n",
       "<style scoped>\n",
       "    .dataframe tbody tr th:only-of-type {\n",
       "        vertical-align: middle;\n",
       "    }\n",
       "\n",
       "    .dataframe tbody tr th {\n",
       "        vertical-align: top;\n",
       "    }\n",
       "\n",
       "    .dataframe thead th {\n",
       "        text-align: right;\n",
       "    }\n",
       "</style>\n",
       "<table border=\"1\" class=\"dataframe\">\n",
       "  <thead>\n",
       "    <tr style=\"text-align: right;\">\n",
       "      <th></th>\n",
       "      <th>AveragePrice</th>\n",
       "      <th>Total Volume</th>\n",
       "      <th>Total Bags</th>\n",
       "      <th>type</th>\n",
       "      <th>Year</th>\n",
       "      <th>Month</th>\n",
       "    </tr>\n",
       "  </thead>\n",
       "  <tbody>\n",
       "    <tr>\n",
       "      <th>0</th>\n",
       "      <td>-0.179547</td>\n",
       "      <td>-0.396584</td>\n",
       "      <td>-0.413139</td>\n",
       "      <td>-1.00296</td>\n",
       "      <td>-1.215795</td>\n",
       "      <td>1.650340</td>\n",
       "    </tr>\n",
       "    <tr>\n",
       "      <th>1</th>\n",
       "      <td>-0.127800</td>\n",
       "      <td>-0.404396</td>\n",
       "      <td>-0.410836</td>\n",
       "      <td>-1.00296</td>\n",
       "      <td>-1.215795</td>\n",
       "      <td>1.650340</td>\n",
       "    </tr>\n",
       "    <tr>\n",
       "      <th>2</th>\n",
       "      <td>-1.214487</td>\n",
       "      <td>-0.351527</td>\n",
       "      <td>-0.414710</td>\n",
       "      <td>-1.00296</td>\n",
       "      <td>-1.215795</td>\n",
       "      <td>1.650340</td>\n",
       "    </tr>\n",
       "    <tr>\n",
       "      <th>3</th>\n",
       "      <td>-0.826385</td>\n",
       "      <td>-0.384268</td>\n",
       "      <td>-0.421359</td>\n",
       "      <td>-1.00296</td>\n",
       "      <td>-1.215795</td>\n",
       "      <td>1.650340</td>\n",
       "    </tr>\n",
       "    <tr>\n",
       "      <th>4</th>\n",
       "      <td>-0.308915</td>\n",
       "      <td>-0.407599</td>\n",
       "      <td>-0.420297</td>\n",
       "      <td>-1.00296</td>\n",
       "      <td>-1.215795</td>\n",
       "      <td>1.367566</td>\n",
       "    </tr>\n",
       "  </tbody>\n",
       "</table>\n",
       "</div>"
      ],
      "text/plain": [
       "   AveragePrice  Total Volume  Total Bags     type      Year     Month\n",
       "0     -0.179547     -0.396584   -0.413139 -1.00296 -1.215795  1.650340\n",
       "1     -0.127800     -0.404396   -0.410836 -1.00296 -1.215795  1.650340\n",
       "2     -1.214487     -0.351527   -0.414710 -1.00296 -1.215795  1.650340\n",
       "3     -0.826385     -0.384268   -0.421359 -1.00296 -1.215795  1.650340\n",
       "4     -0.308915     -0.407599   -0.420297 -1.00296 -1.215795  1.367566"
      ]
     },
     "execution_count": 70,
     "metadata": {},
     "output_type": "execute_result"
    }
   ],
   "source": [
    "sc=StandardScaler()\n",
    "x1 = pd.DataFrame(sc.fit_transform(x1), columns=x1.columns)\n",
    "x1.head()"
   ]
  },
  {
   "cell_type": "markdown",
   "id": "346b2389",
   "metadata": {},
   "source": [
    "### splitting the data into train and test"
   ]
  },
  {
   "cell_type": "code",
   "execution_count": 71,
   "id": "93526706",
   "metadata": {},
   "outputs": [],
   "source": [
    "x1_train, x1_test, y1_train, y1_test = train_test_split(x1, y1, test_size=0.25, random_state=200)"
   ]
  },
  {
   "cell_type": "code",
   "execution_count": 72,
   "id": "f784793a",
   "metadata": {},
   "outputs": [],
   "source": [
    "# Classification Model Function\n",
    "\n",
    "def classify(model, x1, y1):\n",
    "    x1_train, x1_test, y1_train, y1_test = train_test_split(x1, y1, test_size=0.25, random_state=200)\n",
    "    \n",
    "    # Training the model\n",
    "    model.fit(x1_train, y1_train)\n",
    "    \n",
    "    # Predicting Y_test\n",
    "    pred = model.predict(x1_test)\n",
    "    \n",
    "    # Accuracy Score\n",
    "    acc_score = (accuracy_score(y1_test, pred))*100\n",
    "    print(\"Accuracy Score:\", acc_score)\n",
    "    \n",
    "    # Classification Report\n",
    "    class_report = classification_report(y1_test, pred)\n",
    "    print(\"\\nClassification Report:\\n\", class_report)\n",
    "    \n",
    "    # Cross Validation Score\n",
    "    cv_score = (cross_val_score(model, x1, y1, cv=5).mean())*100\n",
    "    print(\"Cross Validation Score:\", cv_score)\n",
    "    \n",
    "    # Result of accuracy minus cv scores\n",
    "    result = acc_score - cv_score\n",
    "    print(\"\\nAccuracy Score - Cross Validation Score is\", result)"
   ]
  },
  {
   "cell_type": "code",
   "execution_count": 73,
   "id": "e8932266",
   "metadata": {},
   "outputs": [
    {
     "name": "stdout",
     "output_type": "stream",
     "text": [
      "Accuracy Score: 18.514387686816864\n",
      "\n",
      "Classification Report:\n",
      "               precision    recall  f1-score   support\n",
      "\n",
      "         0.0       0.16      0.62      0.25        77\n",
      "         1.0       0.00      0.00      0.00        97\n",
      "         2.0       0.56      0.33      0.41        83\n",
      "         3.0       0.08      0.31      0.13        75\n",
      "         4.0       0.22      0.10      0.14        79\n",
      "         5.0       0.23      0.17      0.20        80\n",
      "         6.0       0.29      0.45      0.35        80\n",
      "         7.0       0.06      0.08      0.07        73\n",
      "         8.0       0.32      0.24      0.27        97\n",
      "         9.0       0.20      0.40      0.27        82\n",
      "        10.0       0.05      0.08      0.06        79\n",
      "        11.0       0.27      0.11      0.16        90\n",
      "        12.0       0.17      0.26      0.21        92\n",
      "        13.0       0.08      0.18      0.11        65\n",
      "        14.0       0.00      0.00      0.00        93\n",
      "        15.0       0.33      0.01      0.02        97\n",
      "        16.0       0.08      0.01      0.02        80\n",
      "        17.0       0.14      0.66      0.23        73\n",
      "        18.0       0.12      0.28      0.17        90\n",
      "        19.0       0.00      0.00      0.00        81\n",
      "        20.0       0.00      0.00      0.00        74\n",
      "        21.0       0.15      0.02      0.04        86\n",
      "        22.0       0.26      0.30      0.28        73\n",
      "        23.0       0.06      0.02      0.03        99\n",
      "        24.0       0.04      0.03      0.03        74\n",
      "        25.0       0.36      0.30      0.33        76\n",
      "        26.0       0.08      0.17      0.11        87\n",
      "        27.0       0.00      0.00      0.00        83\n",
      "        28.0       0.54      0.54      0.54        70\n",
      "        29.0       0.31      0.59      0.40        70\n",
      "        30.0       0.19      0.07      0.11        80\n",
      "        31.0       0.00      0.00      0.00        94\n",
      "        32.0       0.16      0.39      0.23        75\n",
      "        33.0       0.04      0.02      0.03        96\n",
      "        34.0       0.04      0.07      0.06        82\n",
      "        35.0       0.43      0.37      0.40        83\n",
      "        36.0       0.15      0.03      0.05       105\n",
      "        37.0       0.25      0.05      0.08        88\n",
      "        38.0       0.00      0.00      0.00        98\n",
      "        39.0       0.09      0.14      0.11        84\n",
      "        40.0       0.31      0.36      0.33        92\n",
      "        41.0       0.04      0.01      0.02        84\n",
      "        42.0       0.44      0.47      0.46        74\n",
      "        43.0       0.14      0.19      0.16        85\n",
      "        44.0       0.08      0.04      0.05        78\n",
      "        45.0       0.48      0.67      0.56        90\n",
      "        46.0       0.19      0.10      0.13        84\n",
      "        47.0       0.00      0.00      0.00        87\n",
      "        48.0       0.17      0.07      0.10        81\n",
      "        49.0       0.09      0.15      0.11        82\n",
      "        50.0       0.00      0.00      0.00        90\n",
      "        51.0       0.93      0.61      0.74        46\n",
      "        52.0       0.31      0.43      0.36        84\n",
      "        53.0       0.32      0.10      0.16        86\n",
      "\n",
      "    accuracy                           0.19      4483\n",
      "   macro avg       0.19      0.20      0.17      4483\n",
      "weighted avg       0.18      0.19      0.16      4483\n",
      "\n",
      "Cross Validation Score: 15.67103957698145\n",
      "\n",
      "Accuracy Score - Cross Validation Score is 2.8433481098354143\n"
     ]
    }
   ],
   "source": [
    "# Logistic Regression\n",
    "\n",
    "model=LogisticRegression()\n",
    "classify(model,x1,y1)"
   ]
  },
  {
   "cell_type": "code",
   "execution_count": 74,
   "id": "a232d51c",
   "metadata": {},
   "outputs": [
    {
     "name": "stdout",
     "output_type": "stream",
     "text": [
      "Accuracy Score: 19.80816417577515\n",
      "\n",
      "Classification Report:\n",
      "               precision    recall  f1-score   support\n",
      "\n",
      "         0.0       0.08      0.13      0.10        77\n",
      "         1.0       0.29      0.07      0.12        97\n",
      "         2.0       0.68      0.39      0.49        83\n",
      "         3.0       0.14      0.09      0.11        75\n",
      "         4.0       0.09      0.06      0.07        79\n",
      "         5.0       0.15      0.20      0.17        80\n",
      "         6.0       0.45      0.50      0.48        80\n",
      "         7.0       0.05      0.10      0.06        73\n",
      "         8.0       0.42      0.23      0.30        97\n",
      "         9.0       0.13      0.22      0.16        82\n",
      "        10.0       0.04      0.04      0.04        79\n",
      "        11.0       0.14      0.23      0.18        90\n",
      "        12.0       0.25      0.18      0.21        92\n",
      "        13.0       0.10      0.15      0.12        65\n",
      "        14.0       1.00      0.01      0.02        93\n",
      "        15.0       0.55      0.28      0.37        97\n",
      "        16.0       0.07      0.10      0.08        80\n",
      "        17.0       0.14      0.52      0.22        73\n",
      "        18.0       0.20      0.33      0.25        90\n",
      "        19.0       0.01      0.01      0.01        81\n",
      "        20.0       0.00      0.00      0.00        74\n",
      "        21.0       0.12      0.05      0.07        86\n",
      "        22.0       0.53      0.47      0.50        73\n",
      "        23.0       0.00      0.00      0.00        99\n",
      "        24.0       0.03      0.01      0.02        74\n",
      "        25.0       0.33      0.36      0.34        76\n",
      "        26.0       0.19      0.11      0.14        87\n",
      "        27.0       0.03      0.01      0.02        83\n",
      "        28.0       0.17      0.44      0.24        70\n",
      "        29.0       0.74      0.69      0.71        70\n",
      "        30.0       0.04      0.07      0.05        80\n",
      "        31.0       0.00      0.00      0.00        94\n",
      "        32.0       0.14      0.32      0.20        75\n",
      "        33.0       0.61      0.24      0.34        96\n",
      "        34.0       0.07      0.52      0.12        82\n",
      "        35.0       0.21      0.57      0.30        83\n",
      "        36.0       0.54      0.13      0.21       105\n",
      "        37.0       0.11      0.10      0.11        88\n",
      "        38.0       0.07      0.02      0.03        98\n",
      "        39.0       0.06      0.10      0.07        84\n",
      "        40.0       0.56      0.05      0.10        92\n",
      "        41.0       0.18      0.07      0.10        84\n",
      "        42.0       0.65      0.20      0.31        74\n",
      "        43.0       0.36      0.09      0.15        85\n",
      "        44.0       0.13      0.10      0.12        78\n",
      "        45.0       0.68      0.58      0.63        90\n",
      "        46.0       0.38      0.13      0.19        84\n",
      "        47.0       0.00      0.00      0.00        87\n",
      "        48.0       0.00      0.00      0.00        81\n",
      "        49.0       0.10      0.16      0.12        82\n",
      "        50.0       0.00      0.00      0.00        90\n",
      "        51.0       1.00      0.98      0.99        46\n",
      "        52.0       0.78      0.51      0.62        84\n",
      "        53.0       0.42      0.35      0.38        86\n",
      "\n",
      "    accuracy                           0.20      4483\n",
      "   macro avg       0.26      0.21      0.20      4483\n",
      "weighted avg       0.26      0.20      0.19      4483\n",
      "\n",
      "Cross Validation Score: 15.046333735054596\n",
      "\n",
      "Accuracy Score - Cross Validation Score is 4.761830440720555\n"
     ]
    }
   ],
   "source": [
    "# Support Vector Classifier\n",
    "\n",
    "model=SVC(C=1.0, kernel='rbf', gamma='auto')\n",
    "classify(model,x1,y1)"
   ]
  },
  {
   "cell_type": "code",
   "execution_count": 75,
   "id": "dccb1a4c",
   "metadata": {},
   "outputs": [
    {
     "name": "stdout",
     "output_type": "stream",
     "text": [
      "Accuracy Score: 44.59067588668302\n",
      "\n",
      "Classification Report:\n",
      "               precision    recall  f1-score   support\n",
      "\n",
      "         0.0       0.56      0.74      0.64        77\n",
      "         1.0       0.28      0.23      0.25        97\n",
      "         2.0       0.64      0.59      0.61        83\n",
      "         3.0       0.46      0.43      0.44        75\n",
      "         4.0       0.51      0.62      0.56        79\n",
      "         5.0       0.42      0.35      0.38        80\n",
      "         6.0       0.68      0.71      0.70        80\n",
      "         7.0       0.27      0.48      0.34        73\n",
      "         8.0       0.70      0.65      0.67        97\n",
      "         9.0       0.34      0.37      0.35        82\n",
      "        10.0       0.21      0.19      0.20        79\n",
      "        11.0       0.42      0.44      0.43        90\n",
      "        12.0       0.44      0.48      0.46        92\n",
      "        13.0       0.20      0.28      0.23        65\n",
      "        14.0       0.42      0.30      0.35        93\n",
      "        15.0       0.56      0.44      0.49        97\n",
      "        16.0       0.40      0.49      0.44        80\n",
      "        17.0       0.52      0.55      0.53        73\n",
      "        18.0       0.49      0.47      0.48        90\n",
      "        19.0       0.23      0.36      0.28        81\n",
      "        20.0       0.24      0.27      0.26        74\n",
      "        21.0       0.32      0.30      0.31        86\n",
      "        22.0       0.65      0.71      0.68        73\n",
      "        23.0       0.63      0.37      0.47        99\n",
      "        24.0       0.42      0.31      0.36        74\n",
      "        25.0       0.51      0.64      0.57        76\n",
      "        26.0       0.31      0.24      0.27        87\n",
      "        27.0       0.35      0.22      0.27        83\n",
      "        28.0       0.69      0.64      0.67        70\n",
      "        29.0       0.82      0.84      0.83        70\n",
      "        30.0       0.66      0.49      0.56        80\n",
      "        31.0       0.35      0.29      0.32        94\n",
      "        32.0       0.33      0.41      0.37        75\n",
      "        33.0       0.38      0.49      0.43        96\n",
      "        34.0       0.35      0.55      0.43        82\n",
      "        35.0       0.65      0.60      0.63        83\n",
      "        36.0       0.39      0.30      0.34       105\n",
      "        37.0       0.20      0.25      0.22        88\n",
      "        38.0       0.23      0.35      0.28        98\n",
      "        39.0       0.42      0.29      0.34        84\n",
      "        40.0       0.71      0.52      0.60        92\n",
      "        41.0       0.40      0.42      0.41        84\n",
      "        42.0       0.73      0.69      0.71        74\n",
      "        43.0       0.29      0.26      0.27        85\n",
      "        44.0       0.34      0.27      0.30        78\n",
      "        45.0       0.73      0.68      0.70        90\n",
      "        46.0       0.55      0.56      0.56        84\n",
      "        47.0       0.45      0.41      0.43        87\n",
      "        48.0       0.26      0.26      0.26        81\n",
      "        49.0       0.52      0.61      0.56        82\n",
      "        50.0       0.30      0.22      0.26        90\n",
      "        51.0       0.98      0.96      0.97        46\n",
      "        52.0       0.71      0.70      0.71        84\n",
      "        53.0       0.40      0.27      0.32        86\n",
      "\n",
      "    accuracy                           0.45      4483\n",
      "   macro avg       0.46      0.45      0.45      4483\n",
      "weighted avg       0.46      0.45      0.45      4483\n",
      "\n",
      "Cross Validation Score: 24.906618076585975\n",
      "\n",
      "Accuracy Score - Cross Validation Score is 19.68405781009705\n"
     ]
    }
   ],
   "source": [
    "# Decision Tree Classifier\n",
    "\n",
    "model=DecisionTreeClassifier(max_depth=15)\n",
    "classify(model,x1,y1)"
   ]
  },
  {
   "cell_type": "code",
   "execution_count": 76,
   "id": "f4dc0b23",
   "metadata": {},
   "outputs": [
    {
     "name": "stdout",
     "output_type": "stream",
     "text": [
      "Accuracy Score: 58.13071603836717\n",
      "\n",
      "Classification Report:\n",
      "               precision    recall  f1-score   support\n",
      "\n",
      "         0.0       0.72      0.92      0.81        77\n",
      "         1.0       0.54      0.38      0.45        97\n",
      "         2.0       0.70      0.76      0.73        83\n",
      "         3.0       0.61      0.47      0.53        75\n",
      "         4.0       0.66      0.77      0.71        79\n",
      "         5.0       0.62      0.66      0.64        80\n",
      "         6.0       0.81      0.84      0.82        80\n",
      "         7.0       0.41      0.66      0.50        73\n",
      "         8.0       0.74      0.84      0.79        97\n",
      "         9.0       0.45      0.38      0.41        82\n",
      "        10.0       0.37      0.30      0.33        79\n",
      "        11.0       0.52      0.61      0.56        90\n",
      "        12.0       0.67      0.63      0.65        92\n",
      "        13.0       0.29      0.38      0.33        65\n",
      "        14.0       0.67      0.61      0.64        93\n",
      "        15.0       0.71      0.52      0.60        97\n",
      "        16.0       0.61      0.69      0.65        80\n",
      "        17.0       0.51      0.75      0.61        73\n",
      "        18.0       0.55      0.57      0.56        90\n",
      "        19.0       0.44      0.49      0.47        81\n",
      "        20.0       0.35      0.36      0.36        74\n",
      "        21.0       0.43      0.37      0.40        86\n",
      "        22.0       0.73      0.81      0.77        73\n",
      "        23.0       0.64      0.49      0.56        99\n",
      "        24.0       0.46      0.34      0.39        74\n",
      "        25.0       0.57      0.72      0.64        76\n",
      "        26.0       0.43      0.38      0.40        87\n",
      "        27.0       0.38      0.45      0.41        83\n",
      "        28.0       0.80      0.81      0.81        70\n",
      "        29.0       0.91      0.91      0.91        70\n",
      "        30.0       0.60      0.49      0.54        80\n",
      "        31.0       0.54      0.28      0.37        94\n",
      "        32.0       0.58      0.56      0.57        75\n",
      "        33.0       0.62      0.60      0.61        96\n",
      "        34.0       0.53      0.68      0.60        82\n",
      "        35.0       0.72      0.66      0.69        83\n",
      "        36.0       0.51      0.34      0.41       105\n",
      "        37.0       0.48      0.50      0.49        88\n",
      "        38.0       0.49      0.52      0.50        98\n",
      "        39.0       0.42      0.46      0.44        84\n",
      "        40.0       0.74      0.84      0.79        92\n",
      "        41.0       0.50      0.56      0.53        84\n",
      "        42.0       0.81      0.80      0.80        74\n",
      "        43.0       0.45      0.42      0.44        85\n",
      "        44.0       0.44      0.56      0.49        78\n",
      "        45.0       0.84      0.84      0.84        90\n",
      "        46.0       0.59      0.57      0.58        84\n",
      "        47.0       0.56      0.52      0.54        87\n",
      "        48.0       0.53      0.37      0.43        81\n",
      "        49.0       0.65      0.71      0.68        82\n",
      "        50.0       0.35      0.27      0.30        90\n",
      "        51.0       1.00      1.00      1.00        46\n",
      "        52.0       0.81      0.86      0.83        84\n",
      "        53.0       0.53      0.50      0.51        86\n",
      "\n",
      "    accuracy                           0.58      4483\n",
      "   macro avg       0.58      0.59      0.58      4483\n",
      "weighted avg       0.58      0.58      0.58      4483\n",
      "\n",
      "Cross Validation Score: 28.682321097860513\n",
      "\n",
      "Accuracy Score - Cross Validation Score is 29.448394940506656\n"
     ]
    }
   ],
   "source": [
    "model=RandomForestClassifier(max_depth=15)\n",
    "classify(model,x1,y1)"
   ]
  },
  {
   "cell_type": "code",
   "execution_count": 77,
   "id": "3b9d8db0",
   "metadata": {},
   "outputs": [
    {
     "name": "stdout",
     "output_type": "stream",
     "text": [
      "Accuracy Score: 20.923488735221948\n",
      "\n",
      "Classification Report:\n",
      "               precision    recall  f1-score   support\n",
      "\n",
      "         0.0       0.10      0.21      0.13        77\n",
      "         1.0       0.11      0.20      0.14        97\n",
      "         2.0       0.24      0.36      0.29        83\n",
      "         3.0       0.16      0.24      0.19        75\n",
      "         4.0       0.15      0.23      0.18        79\n",
      "         5.0       0.15      0.30      0.20        80\n",
      "         6.0       0.44      0.44      0.44        80\n",
      "         7.0       0.07      0.18      0.10        73\n",
      "         8.0       0.26      0.35      0.30        97\n",
      "         9.0       0.14      0.27      0.18        82\n",
      "        10.0       0.06      0.08      0.07        79\n",
      "        11.0       0.20      0.32      0.25        90\n",
      "        12.0       0.33      0.33      0.33        92\n",
      "        13.0       0.08      0.11      0.09        65\n",
      "        14.0       0.18      0.13      0.15        93\n",
      "        15.0       0.40      0.34      0.37        97\n",
      "        16.0       0.06      0.10      0.07        80\n",
      "        17.0       0.29      0.42      0.35        73\n",
      "        18.0       0.28      0.34      0.31        90\n",
      "        19.0       0.09      0.06      0.07        81\n",
      "        20.0       0.00      0.00      0.00        74\n",
      "        21.0       0.13      0.13      0.13        86\n",
      "        22.0       0.40      0.47      0.43        73\n",
      "        23.0       0.05      0.02      0.03        99\n",
      "        24.0       0.13      0.14      0.13        74\n",
      "        25.0       0.37      0.37      0.37        76\n",
      "        26.0       0.06      0.03      0.04        87\n",
      "        27.0       0.05      0.06      0.06        83\n",
      "        28.0       0.42      0.41      0.42        70\n",
      "        29.0       0.72      0.61      0.66        70\n",
      "        30.0       0.04      0.04      0.04        80\n",
      "        31.0       0.04      0.02      0.03        94\n",
      "        32.0       0.22      0.13      0.17        75\n",
      "        33.0       0.32      0.23      0.27        96\n",
      "        34.0       0.18      0.20      0.18        82\n",
      "        35.0       0.45      0.46      0.46        83\n",
      "        36.0       0.34      0.10      0.15       105\n",
      "        37.0       0.07      0.07      0.07        88\n",
      "        38.0       0.05      0.04      0.05        98\n",
      "        39.0       0.06      0.07      0.07        84\n",
      "        40.0       0.15      0.11      0.12        92\n",
      "        41.0       0.23      0.14      0.18        84\n",
      "        42.0       0.46      0.24      0.32        74\n",
      "        43.0       0.29      0.11      0.16        85\n",
      "        44.0       0.03      0.01      0.02        78\n",
      "        45.0       0.57      0.52      0.55        90\n",
      "        46.0       0.39      0.17      0.23        84\n",
      "        47.0       0.17      0.06      0.09        87\n",
      "        48.0       0.11      0.04      0.06        81\n",
      "        49.0       0.26      0.12      0.17        82\n",
      "        50.0       0.00      0.00      0.00        90\n",
      "        51.0       1.00      0.91      0.95        46\n",
      "        52.0       0.66      0.44      0.53        84\n",
      "        53.0       0.32      0.31      0.32        86\n",
      "\n",
      "    accuracy                           0.21      4483\n",
      "   macro avg       0.23      0.22      0.22      4483\n",
      "weighted avg       0.22      0.21      0.21      4483\n",
      "\n",
      "Cross Validation Score: 12.280239527661625\n",
      "\n",
      "Accuracy Score - Cross Validation Score is 8.643249207560324\n"
     ]
    }
   ],
   "source": [
    "# K Neighbors Classifier\n",
    "\n",
    "model=KNeighborsClassifier(n_neighbors=15)\n",
    "classify(model,x1,y1)"
   ]
  },
  {
   "cell_type": "code",
   "execution_count": 78,
   "id": "ce6e13a6",
   "metadata": {},
   "outputs": [
    {
     "name": "stdout",
     "output_type": "stream",
     "text": [
      "Accuracy Score: 56.81463305821994\n",
      "\n",
      "Classification Report:\n",
      "               precision    recall  f1-score   support\n",
      "\n",
      "         0.0       0.76      0.81      0.78        77\n",
      "         1.0       0.40      0.33      0.36        97\n",
      "         2.0       0.75      0.75      0.75        83\n",
      "         3.0       0.55      0.56      0.56        75\n",
      "         4.0       0.68      0.76      0.72        79\n",
      "         5.0       0.63      0.65      0.64        80\n",
      "         6.0       0.81      0.82      0.82        80\n",
      "         7.0       0.45      0.58      0.51        73\n",
      "         8.0       0.75      0.79      0.77        97\n",
      "         9.0       0.47      0.45      0.46        82\n",
      "        10.0       0.30      0.30      0.30        79\n",
      "        11.0       0.50      0.51      0.51        90\n",
      "        12.0       0.61      0.59      0.60        92\n",
      "        13.0       0.19      0.22      0.20        65\n",
      "        14.0       0.60      0.54      0.57        93\n",
      "        15.0       0.71      0.55      0.62        97\n",
      "        16.0       0.56      0.54      0.55        80\n",
      "        17.0       0.60      0.71      0.65        73\n",
      "        18.0       0.50      0.56      0.52        90\n",
      "        19.0       0.36      0.36      0.36        81\n",
      "        20.0       0.39      0.42      0.41        74\n",
      "        21.0       0.39      0.38      0.39        86\n",
      "        22.0       0.69      0.77      0.73        73\n",
      "        23.0       0.56      0.48      0.52        99\n",
      "        24.0       0.42      0.43      0.42        74\n",
      "        25.0       0.55      0.74      0.63        76\n",
      "        26.0       0.48      0.36      0.41        87\n",
      "        27.0       0.51      0.54      0.53        83\n",
      "        28.0       0.76      0.77      0.77        70\n",
      "        29.0       0.93      0.90      0.91        70\n",
      "        30.0       0.56      0.50      0.53        80\n",
      "        31.0       0.44      0.33      0.38        94\n",
      "        32.0       0.64      0.65      0.65        75\n",
      "        33.0       0.55      0.62      0.59        96\n",
      "        34.0       0.55      0.66      0.60        82\n",
      "        35.0       0.71      0.67      0.69        83\n",
      "        36.0       0.53      0.37      0.44       105\n",
      "        37.0       0.44      0.48      0.46        88\n",
      "        38.0       0.43      0.47      0.45        98\n",
      "        39.0       0.38      0.39      0.38        84\n",
      "        40.0       0.76      0.74      0.75        92\n",
      "        41.0       0.48      0.55      0.51        84\n",
      "        42.0       0.81      0.76      0.78        74\n",
      "        43.0       0.49      0.49      0.49        85\n",
      "        44.0       0.34      0.46      0.39        78\n",
      "        45.0       0.86      0.77      0.81        90\n",
      "        46.0       0.62      0.65      0.64        84\n",
      "        47.0       0.58      0.54      0.56        87\n",
      "        48.0       0.48      0.46      0.47        81\n",
      "        49.0       0.74      0.77      0.75        82\n",
      "        50.0       0.37      0.24      0.29        90\n",
      "        51.0       1.00      0.98      0.99        46\n",
      "        52.0       0.83      0.83      0.83        84\n",
      "        53.0       0.52      0.52      0.52        86\n",
      "\n",
      "    accuracy                           0.57      4483\n",
      "   macro avg       0.57      0.58      0.57      4483\n",
      "weighted avg       0.57      0.57      0.57      4483\n",
      "\n",
      "Cross Validation Score: 29.30690566153323\n",
      "\n",
      "Accuracy Score - Cross Validation Score is 27.50772739668671\n"
     ]
    }
   ],
   "source": [
    "# XGB Classifier\n",
    "model=xgb.XGBClassifier(verbosity=0)\n",
    "classify(model, x1, y1)"
   ]
  },
  {
   "cell_type": "markdown",
   "id": "1781ac3f",
   "metadata": {},
   "source": [
    "## Hyper parameter tuning on the best Classification ML Model"
   ]
  },
  {
   "cell_type": "code",
   "execution_count": 80,
   "id": "2ab40a19",
   "metadata": {},
   "outputs": [
    {
     "data": {
      "text/plain": [
       "GridSearchCV(cv=5, estimator=RandomForestClassifier(),\n",
       "             param_grid={'max_depth': [11, 12, 13, 14, 15],\n",
       "                         'max_features': ['auto', 'sqrt', 'log2'],\n",
       "                         'min_samples_split': [2, 4, 6]})"
      ]
     },
     "execution_count": 80,
     "metadata": {},
     "output_type": "execute_result"
    }
   ],
   "source": [
    "# Choosing Random Forest Classifier\n",
    "\n",
    "parameters={'max_features':['auto','sqrt','log2'],'max_depth':[11,12,13,14,15],'min_samples_split':[2,4,6]}\n",
    "GCV=GridSearchCV(RandomForestClassifier(),parameters,cv=5)\n",
    "GCV.fit(x1_train,y1_train)  "
   ]
  },
  {
   "cell_type": "code",
   "execution_count": 81,
   "id": "b938f5ee",
   "metadata": {},
   "outputs": [
    {
     "data": {
      "text/plain": [
       "{'max_depth': 15, 'max_features': 'log2', 'min_samples_split': 2}"
      ]
     },
     "execution_count": 81,
     "metadata": {},
     "output_type": "execute_result"
    }
   ],
   "source": [
    "GCV.best_params_"
   ]
  },
  {
   "cell_type": "code",
   "execution_count": 82,
   "id": "818431c4",
   "metadata": {},
   "outputs": [
    {
     "data": {
      "text/plain": [
       "0.5810840954717823"
      ]
     },
     "execution_count": 82,
     "metadata": {},
     "output_type": "execute_result"
    }
   ],
   "source": [
    "GCV_pred=GCV.best_estimator_.predict(x1_test)  # predicting with best parmeters\n",
    "accuracy_score(y1_test,GCV_pred)  # checking final accuracy"
   ]
  },
  {
   "cell_type": "code",
   "execution_count": null,
   "id": "a489504d",
   "metadata": {},
   "outputs": [],
   "source": [
    "Accuracy score for the Best Model(Random Forest Classifier) is: 58.108\n",
    "we successfully incorporated the Hypert uning parameter on Final Model and received the accuracy score for it."
   ]
  },
  {
   "cell_type": "code",
   "execution_count": 86,
   "id": "c8c0d3ce",
   "metadata": {},
   "outputs": [
    {
     "data": {
      "text/plain": [
       "['Avocado_Project.pkl']"
      ]
     },
     "execution_count": 86,
     "metadata": {},
     "output_type": "execute_result"
    }
   ],
   "source": [
    "# Saving the model using .pkl\n",
    "import joblib\n",
    "joblib.dump(GCV_pred,\"Avocado_Project.pkl\")"
   ]
  },
  {
   "cell_type": "code",
   "execution_count": null,
   "id": "a2576f28",
   "metadata": {},
   "outputs": [],
   "source": []
  }
 ],
 "metadata": {
  "kernelspec": {
   "display_name": "Python 3",
   "language": "python",
   "name": "python3"
  },
  "language_info": {
   "codemirror_mode": {
    "name": "ipython",
    "version": 3
   },
   "file_extension": ".py",
   "mimetype": "text/x-python",
   "name": "python",
   "nbconvert_exporter": "python",
   "pygments_lexer": "ipython3",
   "version": "3.8.8"
  }
 },
 "nbformat": 4,
 "nbformat_minor": 5
}
